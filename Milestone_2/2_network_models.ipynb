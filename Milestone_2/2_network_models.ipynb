{
 "cells": [
  {
   "cell_type": "markdown",
   "metadata": {},
   "source": [
    "# [NTDS'18] milestone 2: network models\n",
    "[ntds'18]: https://github.com/mdeff/ntds_2018\n",
    "\n",
    "[Hermina Petric Maretic](https://people.epfl.ch/hermina.petricmaretic), [EPFL LTS4](https://lts4.epfl.ch)"
   ]
  },
  {
   "cell_type": "markdown",
   "metadata": {},
   "source": [
<<<<<<< Updated upstream
    "###### Students\n",
    "\n",
    "* Team: `36`\n",
    "* Students: `Muller Christophe, Bernard-Michel Martial, Coullery Ludovic, Faraut Victor`\n",
    "* Dataset: `Free music archive`"
=======
    "## Students\n",
    "\n",
    "* Team: `<your team number>`\n",
    "* Students: `<the name of all students in the team>`\n",
    "* Dataset: `<the dataset you used to complete the milestone>`"
>>>>>>> Stashed changes
   ]
  },
  {
   "cell_type": "markdown",
   "metadata": {},
   "source": [
    "## Rules\n",
    "\n",
    "* Milestones have to be completed by teams. No collaboration between teams is allowed.\n",
    "* Textual answers shall be short. Typically one to two sentences.\n",
    "* Code has to be clean.\n",
    "* In the first part, you cannot import any other library than we imported. In the second part, you are allowed to import any library you want.\n",
    "* When submitting, the notebook is executed and the results are stored. I.e., if you open the notebook again it should show numerical results and plots. We won't be able to execute your notebooks.\n",
    "* The notebook is re-executed from a blank state before submission. That is to be sure it is reproducible. You can click \"Kernel\" then \"Restart & Run All\" in Jupyter."
   ]
  },
  {
   "cell_type": "markdown",
   "metadata": {},
   "source": [
    "## Objective\n",
    "\n",
    "The purpose of this milestone is to explore various random network models, analyse their properties and compare them to your network. In the first part of the milestone you will implement two random graph models and try to fit them to your network. In this part you are not allowed to use any additional package. In the second part of the milestone you will choose a third random graph model that you think shares some properties with your network. You will be allowed to use additional packages to construct this network, but you must explain your network choice. Finally, make your code as clean as possible, and keep your textual answers short."
   ]
  },
  {
   "cell_type": "markdown",
   "metadata": {},
   "source": [
    "## Part 0\n",
    "\n",
    "Import the adjacency matrix of your graph that you constructed in milestone 1, as well as the number of nodes and edges of your network."
   ]
  },
  {
   "cell_type": "code",
<<<<<<< Updated upstream
   "execution_count": 1,
   "metadata": {},
   "outputs": [],
   "source": [
    "import numpy as np"
   ]
  },
  {
   "cell_type": "code",
   "execution_count": 2,
   "metadata": {},
   "outputs": [],
   "source": [
    "adjacency =  np.load('../Milestone_1/adjacency.npy')\n",
    "n_nodes =  np.size(adjacency,1) # the number of nodes in the network\n",
    "n_edges =  sum(sum(adjacency != 0))/2# the number of edges in the network"
=======
   "execution_count": null,
   "metadata": {},
   "outputs": [],
   "source": [
    "adjacency =  # the adjacency matrix\n",
    "n_nodes =  # the number of nodes in the network\n",
    "n_edges =  # the number of edges in the network"
>>>>>>> Stashed changes
   ]
  },
  {
   "cell_type": "markdown",
   "metadata": {},
   "source": [
    "## Part 1\n",
    "\n",
    "**For the computation of this part of the milestone you are only allowed to use the packages that have been imported in the cell below.**"
   ]
  },
  {
   "cell_type": "code",
<<<<<<< Updated upstream
   "execution_count": 3,
=======
   "execution_count": null,
>>>>>>> Stashed changes
   "metadata": {},
   "outputs": [],
   "source": [
    "%matplotlib inline\n",
    "\n",
    "import random\n",
    "\n",
<<<<<<< Updated upstream
=======
    "import numpy as np\n",
>>>>>>> Stashed changes
    "import pandas as pd\n",
    "import matplotlib.pyplot as plt\n",
    "import scipy"
   ]
  },
  {
   "cell_type": "markdown",
   "metadata": {},
   "source": [
    "### Question 1\n",
    "\n",
    "Create a function that constructs an Erdős–Rényi graph."
   ]
  },
  {
   "cell_type": "code",
<<<<<<< Updated upstream
   "execution_count": 48,
   "metadata": {},
   "outputs": [
    {
     "data": {
      "text/plain": [
       "array([[0., 0., 0., 0., 0., 0., 0., 0., 0., 0.],\n",
       "       [0., 0., 0., 0., 0., 0., 0., 0., 0., 0.],\n",
       "       [0., 0., 0., 0., 0., 0., 0., 0., 0., 0.],\n",
       "       [0., 0., 0., 0., 0., 0., 0., 0., 0., 0.],\n",
       "       [0., 0., 0., 0., 0., 0., 0., 0., 0., 0.],\n",
       "       [0., 0., 0., 0., 0., 0., 0., 0., 0., 0.],\n",
       "       [0., 0., 0., 0., 0., 0., 0., 0., 0., 0.],\n",
       "       [0., 0., 0., 0., 0., 0., 0., 0., 0., 0.],\n",
       "       [0., 0., 0., 0., 0., 0., 0., 0., 0., 0.],\n",
       "       [0., 0., 0., 0., 0., 0., 0., 0., 0., 0.]])"
      ]
     },
     "execution_count": 48,
     "metadata": {},
     "output_type": "execute_result"
    }
   ],
   "source": [
    "random.seed(2)\n",
    "nbr = random.random()\n",
    "nbr\n",
    "m = np.zeros((10,10))\n",
    "m"
   ]
  },
  {
   "cell_type": "code",
   "execution_count": 56,
=======
   "execution_count": null,
>>>>>>> Stashed changes
   "metadata": {},
   "outputs": [],
   "source": [
    "def erdos_renyi(n, p, seed=None):\n",
    "    \"\"\"Create an instance from the Erdos-Renyi graph model.\n",
    "    \n",
    "    Parameters\n",
    "    ----------\n",
    "    n: int\n",
    "        Size of the graph.\n",
    "    p: float\n",
    "        Edge probability. A number between 0 and 1.\n",
    "    seed: int (optional)\n",
    "        Seed for the random number generator. To get reproducible results.\n",
    "    \n",
    "    Returns\n",
    "    -------\n",
    "    adjacency\n",
    "        The adjacency matrix of a graph.\n",
    "    \"\"\"\n",
<<<<<<< Updated upstream
    "    random.seed(seed)\n",
    "    \n",
    "    adjacency = np.zeros((n,n))\n",
    "    for i in range(n):\n",
    "        for j in range(i+1,n):\n",
    "            if random.random()<p:\n",
    "                adjacency[i][j]=1\n",
    "                \n",
    "    adjacency = adjacency + adjacency.transpose()\n",
    "    \n",
=======
    "    \n",
    "    # Your code here.\n",
>>>>>>> Stashed changes
    "    \n",
    "    return adjacency"
   ]
  },
  {
   "cell_type": "code",
<<<<<<< Updated upstream
   "execution_count": 55,
   "metadata": {},
   "outputs": [
    {
     "data": {
      "text/plain": [
       "Text(0.5, 1.05, 'Erdos-Renyi (5, 0.6)')"
      ]
     },
     "execution_count": 55,
     "metadata": {},
     "output_type": "execute_result"
    },
    {
     "data": {
      "image/png": "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\n",
      "text/plain": [
       "<Figure size 432x288 with 1 Axes>"
      ]
     },
     "metadata": {
      "needs_background": "light"
     },
     "output_type": "display_data"
    }
   ],
=======
   "execution_count": null,
   "metadata": {},
   "outputs": [],
>>>>>>> Stashed changes
   "source": [
    "er = erdos_renyi(5, 0.6, 9765)\n",
    "plt.spy(er)\n",
    "plt.title('Erdos-Renyi (5, 0.6)')"
   ]
  },
  {
   "cell_type": "code",
   "execution_count": null,
   "metadata": {},
   "outputs": [],
   "source": [
    "er = erdos_renyi(10, 0.4, 7648)\n",
    "plt.spy(er)\n",
    "plt.title('Erdos-Renyi (10, 0.4)')"
   ]
  },
  {
   "cell_type": "markdown",
   "metadata": {},
   "source": [
    "### Question 2\n",
    "\n",
    "Use the function to create a random Erdos-Renyi graph. Choose the parameters such that number of nodes is the same as in your graph, and the number of edges similar. You don't need to set the random seed. Comment on your choice of parameters."
   ]
  },
  {
   "cell_type": "code",
   "execution_count": null,
   "metadata": {},
   "outputs": [],
   "source": [
    "# Your code here."
   ]
  },
  {
   "cell_type": "markdown",
   "metadata": {},
   "source": [
    "**Your answer here.**"
   ]
  },
  {
   "cell_type": "markdown",
   "metadata": {},
   "source": [
    "### Question 3\n",
    "\n",
    "Create a function that constructs a Barabási-Albert graph."
   ]
  },
  {
   "cell_type": "code",
   "execution_count": null,
   "metadata": {},
   "outputs": [],
   "source": [
    "def barabasi_albert(n, m, seed=None):\n",
    "    \"\"\"Create an instance from the Barabasi-Albert graph model.\n",
    "    \n",
    "    Parameters\n",
    "    ----------\n",
    "    n: int\n",
    "        Size of the graph.\n",
    "    m: int\n",
    "        Number of edges to attach from a new node to existing nodes.\n",
    "    seed: int (optional)\n",
    "        Seed for the random number generator. To get reproducible results.\n",
    "    \n",
    "    Returns\n",
    "    -------\n",
    "    adjacency\n",
    "        The adjacency matrix of a graph.\n",
    "    \"\"\"\n",
    "    \n",
    "    # Your code here.\n",
    "    \n",
    "    return adjacency"
   ]
  },
  {
   "cell_type": "code",
   "execution_count": null,
   "metadata": {},
   "outputs": [],
   "source": [
    "ba = barabasi_albert(5, 1, 9087)\n",
    "plt.spy(ba)\n",
    "plt.title('Barabasi-Albert (5, 1)')"
   ]
  },
  {
   "cell_type": "code",
   "execution_count": null,
   "metadata": {},
   "outputs": [],
   "source": [
    "ba = barabasi_albert(10, 2, 8708)\n",
    "plt.spy(ba)\n",
    "plt.title('Barabasi-Albert (10, 2)')"
   ]
  },
  {
   "cell_type": "markdown",
   "metadata": {},
   "source": [
    "### Question 4\n",
    "\n",
    "Use the function to create a random Barabási-Albert graph. Choose the parameters such that number of nodes is the same as in your graph, and the number of edges similar. You don't need to set the random seed. Comment on your choice of parameters."
   ]
  },
  {
   "cell_type": "code",
   "execution_count": null,
   "metadata": {},
   "outputs": [],
   "source": [
    "# Your code here."
   ]
  },
  {
   "cell_type": "markdown",
   "metadata": {},
   "source": [
    "**Your answer here**"
   ]
  },
  {
   "cell_type": "markdown",
   "metadata": {},
   "source": [
    "### Question 5\n",
    "\n",
    "Compare the number of edges in all three networks (your real network, the Erdős–Rényi network, and the Barabási-Albert netowk)."
   ]
  },
  {
   "cell_type": "code",
   "execution_count": null,
   "metadata": {},
   "outputs": [],
   "source": [
    "# Your code here."
   ]
  },
  {
   "cell_type": "markdown",
   "metadata": {},
   "source": [
    "### Question 6\n",
    "\n",
    "Implement a function that computes the [Kullback–Leibler (KL) divergence](https://en.wikipedia.org/wiki/Kullback%E2%80%93Leibler_divergence) between two probability distributions.\n",
    "We'll use it to compare the degree distributions of networks."
   ]
  },
  {
   "cell_type": "code",
   "execution_count": null,
   "metadata": {},
   "outputs": [],
   "source": [
    "def kl_divergence(p, q):\n",
    "    \"\"\"Compute the KL divergence between probability distributions of degrees of two networks.\n",
    "    \n",
    "    Parameters\n",
    "    ----------\n",
    "    p: np.array\n",
    "        Probability distribution of degrees of the 1st graph.\n",
    "    q: np.array\n",
    "        Probability distribution of degrees of the 2nd graph.\n",
    "    \n",
    "    Returns\n",
    "    -------\n",
    "    kl\n",
    "        The KL divergence between the two distributions.\n",
    "    \"\"\"\n",
    "    \n",
    "    # Your code here.\n",
    "    \n",
    "    return kl"
   ]
  },
  {
   "cell_type": "code",
   "execution_count": null,
   "metadata": {},
   "outputs": [],
   "source": [
    "p_test = np.array([0.2, 0.2, 0.2, 0.4])\n",
    "q_test = np.array([0.3, 0.3, 0.1, 0.3])\n",
    "kl_divergence(p_test, q_test)"
   ]
  },
  {
   "cell_type": "markdown",
   "metadata": {},
   "source": [
    "### Question 7\n",
    "\n",
    "Compare the degree distribution of your network to each of the two synthetic ones, in terms of KL divergence. **Hint:** Make sure you normalise your degree distributions to make them valid probability distributions."
   ]
  },
  {
   "cell_type": "code",
   "execution_count": null,
   "metadata": {},
   "outputs": [],
   "source": [
    "# Your code here."
   ]
  },
  {
   "cell_type": "markdown",
   "metadata": {},
   "source": [
    "### Question 8\n",
    "\n",
    "Plot the degree distribution historgrams for all three networks. Are they consistent with the KL divergence results? Explain."
   ]
  },
  {
   "cell_type": "code",
   "execution_count": null,
   "metadata": {},
   "outputs": [],
   "source": [
    "# Your code here."
   ]
  },
  {
   "cell_type": "markdown",
   "metadata": {},
   "source": [
    "**Your answer here.**"
   ]
  },
  {
   "cell_type": "markdown",
   "metadata": {},
   "source": [
    "### Question 9\n",
    "\n",
    "Imagine you got equal degree distributions. Would that guarantee you got the same graph? Explain."
   ]
  },
  {
   "cell_type": "markdown",
   "metadata": {},
   "source": [
    "**Your answer here.**"
   ]
  },
  {
   "cell_type": "markdown",
   "metadata": {},
   "source": [
    "## Part 2\n",
    "\n",
    "**You are allowed to use any additional library here (e.g., NetworkX, PyGSP, etc.).** Be careful not to include something here and use it in part 1!"
   ]
  },
  {
   "cell_type": "markdown",
   "metadata": {},
   "source": [
    "### Question 10\n",
    "\n",
    "Choose a random network model that fits you network well. Explain your choice. \n",
    "\n",
    "**Hint:** Check lecture notes for different network models and their properties. Your choice should be made based on at least one property you'd expect to be similar."
   ]
  },
  {
   "cell_type": "markdown",
   "metadata": {},
   "source": [
    "**Your answer here.**"
   ]
  },
  {
   "cell_type": "markdown",
   "metadata": {},
   "source": [
    "### Question 11\n",
    "\n",
    "Explain (in short) how the chosen model works."
   ]
  },
  {
   "cell_type": "markdown",
   "metadata": {},
   "source": [
    "**Your answer here.**"
   ]
  },
  {
   "cell_type": "markdown",
   "metadata": {},
   "source": [
    "### Question 12\n",
    "\n",
    "Create a random graph from that model, such that the number of nodes is the same as in your graph."
   ]
  },
  {
   "cell_type": "code",
   "execution_count": null,
   "metadata": {},
   "outputs": [],
   "source": [
    "# Your code here."
   ]
  },
  {
   "cell_type": "markdown",
   "metadata": {},
   "source": [
    "### Question 13\n",
    "\n",
    "Check the properties you expected to be similar, and compare to your network."
   ]
  },
  {
   "cell_type": "code",
   "execution_count": null,
   "metadata": {},
   "outputs": [],
   "source": [
    "# Your code here."
   ]
  },
  {
   "cell_type": "markdown",
   "metadata": {},
   "source": [
    "Are the results what you expected? Explain."
   ]
  },
  {
   "cell_type": "markdown",
   "metadata": {},
   "source": [
    "**Your answer here.**"
   ]
  }
 ],
 "metadata": {
  "kernelspec": {
   "display_name": "Python 3",
   "language": "python",
   "name": "python3"
  },
  "language_info": {
   "codemirror_mode": {
    "name": "ipython",
    "version": 3
   },
   "file_extension": ".py",
   "mimetype": "text/x-python",
   "name": "python",
   "nbconvert_exporter": "python",
   "pygments_lexer": "ipython3",
<<<<<<< Updated upstream
   "version": "3.7.1"
=======
   "version": "3.7.0"
>>>>>>> Stashed changes
  }
 },
 "nbformat": 4,
 "nbformat_minor": 2
}
