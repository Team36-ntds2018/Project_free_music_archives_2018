{
 "cells": [
  {
   "cell_type": "code",
   "execution_count": 1,
   "metadata": {},
   "outputs": [],
   "source": [
    "import numpy as np\n",
    "import pandas as pd\n",
    "import matplotlib.pyplot as plt\n",
    "import IPython.display as ipd\n",
    "from scipy.spatial.distance import pdist, squareform\n",
    "import math\n",
    "import collections"
   ]
  },
  {
   "cell_type": "code",
   "execution_count": 2,
   "metadata": {},
   "outputs": [
    {
     "data": {
      "text/plain": [
       "Rock                   3892\n",
       "Electronic             2170\n",
       "Hip-Hop                 910\n",
       "Folk                    874\n",
       "Old-Time / Historic     357\n",
       "Pop                     346\n",
       "Classical               265\n",
       "Jazz                    241\n",
       "International           133\n",
       "Instrumental             84\n",
       "Blues                    66\n",
       "Experimental             17\n",
       "Name: genre_top, dtype: int64"
      ]
     },
     "execution_count": 2,
     "metadata": {},
     "output_type": "execute_result"
    }
   ],
   "source": [
    "path = '../fma_metadata/'\n",
    "\n",
    "tracks = pd.read_csv(path+'tracks.csv', index_col=0, header=[0, 1])\n",
    "echonest = pd.read_csv(path+'echonest.csv', index_col=0, header=[0, 1, 2])\n",
    "\n",
    "# Features selected and extracted\n",
    "audio_features = echonest.echonest.audio_features[['acousticness','danceability','instrumentalness']]\n",
    "genres = tracks.track[['genres', 'genre_top']]\n",
    "\n",
    "# Show all the genres of music\n",
    "features_and_genres = audio_features.merge(genres, left_on='track_id', right_on='track_id', how='inner')\n",
    "features_and_genres.genre_top.value_counts()"
   ]
  },
  {
   "cell_type": "code",
   "execution_count": 3,
   "metadata": {},
   "outputs": [
    {
     "data": {
      "text/html": [
       "<div>\n",
       "<style scoped>\n",
       "    .dataframe tbody tr th:only-of-type {\n",
       "        vertical-align: middle;\n",
       "    }\n",
       "\n",
       "    .dataframe tbody tr th {\n",
       "        vertical-align: top;\n",
       "    }\n",
       "\n",
       "    .dataframe thead th {\n",
       "        text-align: right;\n",
       "    }\n",
       "</style>\n",
       "<table border=\"1\" class=\"dataframe\">\n",
       "  <thead>\n",
       "    <tr style=\"text-align: right;\">\n",
       "      <th></th>\n",
       "      <th>acousticness</th>\n",
       "      <th>danceability</th>\n",
       "      <th>instrumentalness</th>\n",
       "    </tr>\n",
       "    <tr>\n",
       "      <th>track_id</th>\n",
       "      <th></th>\n",
       "      <th></th>\n",
       "      <th></th>\n",
       "    </tr>\n",
       "  </thead>\n",
       "  <tbody>\n",
       "    <tr>\n",
       "      <th>10</th>\n",
       "      <td>0.951670</td>\n",
       "      <td>0.658179</td>\n",
       "      <td>0.965427</td>\n",
       "    </tr>\n",
       "    <tr>\n",
       "      <th>213</th>\n",
       "      <td>0.933741</td>\n",
       "      <td>0.312720</td>\n",
       "      <td>0.919242</td>\n",
       "    </tr>\n",
       "    <tr>\n",
       "      <th>821</th>\n",
       "      <td>0.400494</td>\n",
       "      <td>0.862510</td>\n",
       "      <td>0.908926</td>\n",
       "    </tr>\n",
       "    <tr>\n",
       "      <th>822</th>\n",
       "      <td>0.674356</td>\n",
       "      <td>0.870449</td>\n",
       "      <td>0.886045</td>\n",
       "    </tr>\n",
       "    <tr>\n",
       "      <th>823</th>\n",
       "      <td>0.212799</td>\n",
       "      <td>0.828657</td>\n",
       "      <td>0.887106</td>\n",
       "    </tr>\n",
       "  </tbody>\n",
       "</table>\n",
       "</div>"
      ],
      "text/plain": [
       "          acousticness  danceability  instrumentalness\n",
       "track_id                                              \n",
       "10            0.951670      0.658179          0.965427\n",
       "213           0.933741      0.312720          0.919242\n",
       "821           0.400494      0.862510          0.908926\n",
       "822           0.674356      0.870449          0.886045\n",
       "823           0.212799      0.828657          0.887106"
      ]
     },
     "execution_count": 3,
     "metadata": {},
     "output_type": "execute_result"
    }
   ],
   "source": [
    "# Select the genres that you want in your graph \n",
    "# Add them in the \"selected genres\" down below\n",
    "#\n",
    "\n",
    "selected_genres_full = ['Rock', 'Electronic', 'Hip-Hop', 'Pop', 'Classical', 'Jazz', 'International']\n",
    "selected_genres = ['Pop', 'Classical', 'Jazz', 'International']\n",
    "\n",
    "features = features_and_genres[features_and_genres.genre_top == selected_genres[0]]\n",
    "\n",
    "for i in range(len(selected_genres)-1):\n",
    "    features = pd.concat([features, (features_and_genres[features_and_genres.genre_top == selected_genres[i+1]])])\n",
    "    \n",
    "features = features.drop(columns=['genres','genre_top'])\n",
    "# keep only numerical data now that the selection according to genres is done\n",
    "features.head()"
   ]
  },
  {
   "cell_type": "code",
   "execution_count": 4,
   "metadata": {},
   "outputs": [],
   "source": [
    "distances = pdist(features.values, metric='euclidean')\n",
    "# weights computed with a kernel and removing all the weights below threshold\n",
    "threshold_full = 0.99\n",
    "threshold = 0.999\n",
    "\n",
    "# Gaussian kernel: \n",
    "kernel_width = distances.mean()\n",
    "weights = np.exp(-distances**2 / kernel_width**2)\n",
    "weights[weights < threshold] = 0\n",
    "adjacency = squareform(weights)# the adjacency matrix\n",
    "n_nodes = len(features)"
   ]
  },
  {
   "cell_type": "code",
   "execution_count": 5,
   "metadata": {},
   "outputs": [
    {
     "data": {
      "image/png": "[encoded data removed]",
      "text/plain": [
       "<Figure size 720x720 with 1 Axes>"
      ]
     },
     "metadata": {
      "needs_background": "light"
     },
     "output_type": "display_data"
    }
   ],
   "source": [
    "figure1 = plt.figure(figsize=(10, 10))\n",
    "plt.spy(adjacency, markersize=0.08, figure = figure1)\n",
    "plt.title('Adjacency matrix')\n",
    "plt.show()"
   ]
  },
  {
   "cell_type": "code",
   "execution_count": 10,
   "metadata": {},
   "outputs": [],
   "source": [
    "def matrix_to_list(matrix):\n",
    "    adj_list = {}\n",
    "    for i, node in enumerate(matrix):\n",
    "        connected_nodes = []\n",
    "        for neighbour_id, neighbour_w in enumerate(node):\n",
    "            if neighbour_w >0:\n",
    "                connected_nodes.append(neighbour_id)\n",
    "        adj_list[i] = connected_nodes\n",
    "    return adj_list"
   ]
  },
  {
   "cell_type": "code",
   "execution_count": 11,
   "metadata": {},
   "outputs": [],
   "source": [
    "def connected_graph(adjacency):\n",
    "    \"\"\"Determines whether a graph is connected.\n",
    "    \n",
    "    Parameters\n",
    "    ----------\n",
    "    adjacency: numpy array\n",
    "        The (weighted) adjacency matrix of a graph.\n",
    "    \n",
    "    Returns\n",
    "    -------\n",
    "    bool\n",
    "        True if the graph is connected, False otherwise.\n",
    "    \"\"\"\n",
    "\n",
    "    adjacency_list = matrix_to_list(adjacency)\n",
    "    \n",
    "    visited = set()\n",
    "    visited.add(0)\n",
    "    queue = collections.deque([0])\n",
    "    #collections is a faster queue than a list\n",
    "    \n",
    "    while queue:\n",
    "        node = queue.popleft()\n",
    "        for neighbour in adjacency_list[node]:\n",
    "            if neighbour not in visited:\n",
    "                visited.add(neighbour)\n",
    "                queue.append(neighbour)\n",
    "        \n",
    "    return (len(adjacency)==len(visited))"
   ]
  },
  {
   "cell_type": "code",
   "execution_count": 20,
   "metadata": {},
   "outputs": [],
   "source": [
    "def find_components(adjacency):\n",
    "    \"\"\"Find the connected components of a graph.\n",
    "    \n",
    "    Parameters\n",
    "    ----------\n",
    "    adjacency: numpy array\n",
    "        The (weighted) adjacency matrix of a graph.\n",
    "    \n",
    "    Returns\n",
    "    -------\n",
    "    list of numpy arrays\n",
    "        A list of adjacency matrices, one per connected component.\n",
    "    \"\"\"\n",
    "    \n",
    "    # Your code here.\n",
    "    \n",
    "    components = []\n",
    "    comp_ids = []\n",
    "    start = 0\n",
    "    if connected_graph(adjacency):\n",
    "        return adjacency\n",
    "    else:\n",
    "        adjacency_list = matrix_to_list(adjacency)\n",
    "        visited = set([])\n",
    "\n",
    "        while len(adjacency)!=len(visited)+1:\n",
    "            comp_visited = set([])\n",
    "            comp_visited.add(start)\n",
    "            visited.add(start)\n",
    "            queue = collections.deque([start])\n",
    "            #collections is a faster queue than a list\n",
    "\n",
    "            while queue:\n",
    "                node = queue.popleft()\n",
    "                for neighbour in adjacency_list[node]:\n",
    "                    if neighbour not in visited:\n",
    "                        comp_visited.add(neighbour)\n",
    "                        visited.add(neighbour)\n",
    "                        queue.append(neighbour)\n",
    "            comp_visited = list(comp_visited)\n",
    "            comp_ids.append(comp_visited)\n",
    "            components.append((adjacency[comp_visited,:])[:,comp_visited])\n",
    "            while start in visited:\n",
    "                start += 1\n",
    "        return components, comp_ids"
   ]
  },
  {
   "cell_type": "code",
   "execution_count": 23,
   "metadata": {},
   "outputs": [],
   "source": [
    "# compute the connected components\n",
    "components, comp_ids = find_components(adjacency)\n",
    "# select the biggest components\n",
    "length = 0\n",
    "index = 0\n",
    "for i in range(len(components)):\n",
    "    if(len(components[i]) > length):\n",
    "        length = len(components[i])\n",
    "        index = i\n",
    "new_adjacency = components[index]\n",
    "new_ids = comp_ids[index]\n",
    "    \n"
   ]
  },
  {
   "cell_type": "code",
   "execution_count": 37,
   "metadata": {},
   "outputs": [
    {
     "data": {
      "text/plain": [
       "Int64Index([28103, 28105, 28107, 28110,  1051, 28111, 28113, 28114, 28115,\n",
       "            28116,\n",
       "            ...\n",
       "            23160, 24831, 24832, 25865, 25867, 28097, 28098, 28099, 28101,\n",
       "            28102],\n",
       "           dtype='int64', name='track_id', length=239)"
      ]
     },
     "execution_count": 37,
     "metadata": {},
     "output_type": "execute_result"
    }
   ],
   "source": [
    "features.index[new_ids]"
   ]
  },
  {
   "cell_type": "code",
   "execution_count": 6,
   "metadata": {},
   "outputs": [],
   "source": [
    "features.to_csv('new_out_features.csv')\n",
    "np.save('new_adjacency', adjacency)"
   ]
  },
  {
   "cell_type": "code",
   "execution_count": null,
   "metadata": {},
   "outputs": [],
   "source": []
  },
  {
   "cell_type": "code",
   "execution_count": 7,
   "metadata": {},
   "outputs": [
    {
     "name": "stdout",
     "output_type": "stream",
     "text": [
      "985\n",
      "1218.0\n"
     ]
    }
   ],
   "source": [
    "n_nodes = np.size(adjacency,1) # the number of nodes in the network\n",
    "n_edges = sum(sum(adjacency!=0))/2 # number of edges in the network\n",
    "print(n_nodes)\n",
    "print(n_edges)"
   ]
  },
  {
   "cell_type": "code",
   "execution_count": null,
   "metadata": {},
   "outputs": [],
   "source": []
  }
 ],
 "metadata": {
  "kernelspec": {
   "display_name": "Python 3",
   "language": "python",
   "name": "python3"
  },
  "language_info": {
   "codemirror_mode": {
    "name": "ipython",
    "version": 3
   },
   "file_extension": ".py",
   "mimetype": "text/x-python",
   "name": "python",
   "nbconvert_exporter": "python",
   "pygments_lexer": "ipython3",
   "version": "3.7.1"
  }
 },
 "nbformat": 4,
 "nbformat_minor": 2
}
