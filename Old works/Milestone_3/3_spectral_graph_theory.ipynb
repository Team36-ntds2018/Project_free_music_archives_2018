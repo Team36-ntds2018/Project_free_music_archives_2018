{
 "cells": [
  {
   "cell_type": "markdown",
   "metadata": {},
   "source": [
    "# [NTDS'18] milestone 3: spectral graph theory\n",
    "[ntds'18]: https://github.com/mdeff/ntds_2018\n",
    "\n",
    "[Michaël Defferrard](http://deff.ch), [EPFL LTS2](https://lts2.epfl.ch)"
   ]
  },
  {
   "cell_type": "markdown",
   "metadata": {},
   "source": [
    "## Students\n",
    "\n",
    "* Team: `36`\n",
    "* Students: `Muller Christophe, Bernard-Michel Martial, Coullery Ludovic, Faraut Victor`\n",
    "* Dataset: `Free music archive`"
   ]
  },
  {
   "cell_type": "markdown",
   "metadata": {},
   "source": [
    "## Rules\n",
    "\n",
    "* Milestones have to be completed by teams. No collaboration between teams is allowed.\n",
    "* Textual answers shall be short. Typically one to two sentences.\n",
    "* Code has to be clean.\n",
    "* You cannot import any other library than we imported.\n",
    "* When submitting, the notebook is executed and the results are stored. I.e., if you open the notebook again it should show numerical results and plots. We won't be able to execute your notebooks.\n",
    "* The notebook is re-executed from a blank state before submission. That is to be sure it is reproducible. You can click \"Kernel\" then \"Restart & Run All\" in Jupyter."
   ]
  },
  {
   "cell_type": "markdown",
   "metadata": {},
   "source": [
    "## Objective\n",
    "\n",
    "The goal of this milestone is to get familiar with the graph Laplacian and its spectral decomposition."
   ]
  },
  {
   "cell_type": "markdown",
   "metadata": {},
   "source": [
    "## 0 Load your network"
   ]
  },
  {
   "cell_type": "markdown",
   "metadata": {},
   "source": [
    "If you get a `No module named 'sklearn'` error when running the below cell, install [scikit-learn](https://scikit-learn.org) with `conda install scikit-learn` (after activating the `ntds_2018` environment)."
   ]
  },
  {
   "cell_type": "code",
   "execution_count": 1,
   "metadata": {},
   "outputs": [],
   "source": [
    "import numpy as np\n",
    "from scipy import sparse\n",
    "import scipy.sparse.linalg\n",
    "import matplotlib.pyplot as plt\n",
    "%matplotlib inline\n",
    "from sklearn.cluster import KMeans"
   ]
  },
  {
   "cell_type": "markdown",
   "metadata": {},
   "source": [
    "Let's denote your graph as $\\mathcal{G} = (\\mathcal{V}, \\mathcal{E}, A)$, where $\\mathcal{V}$ is the set of nodes, $\\mathcal{E}$ is the set of edges, $A \\in \\mathbb{R}^{N \\times N}$ is the (weighted) adjacency matrix, and $N = |\\mathcal{V}|$ is the number of nodes.\n",
    "\n",
    "Import the adjacency matrix $A$ that you constructed in the first milestone.\n",
    "(You're allowed to update it between milestones if you want to.)"
   ]
  },
  {
   "cell_type": "code",
   "execution_count": 2,
   "metadata": {},
   "outputs": [],
   "source": [
    "adjacency = np.load('../Milestone_1/adjacency.npy')\n",
    "n_nodes = np.size(adjacency,1) # the number of nodes in the network\n",
    "n_edges = sum(sum(adjacency!=0))/2 # number of edges in the network\n",
    "degrees = sum(adjacency!=0)\n",
    "\n",
    "adjacency[adjacency>0] =1"
   ]
  },
  {
   "cell_type": "markdown",
   "metadata": {},
   "source": [
    "## 1 Graph Laplacian"
   ]
  },
  {
   "cell_type": "markdown",
   "metadata": {},
   "source": [
    "### Question 1\n",
    "\n",
    "From the (weighted) adjacency matrix $A$, compute both the combinatorial (also called unnormalized) and the normalized graph Laplacian matrices.\n",
    "\n",
    "Note: if your graph is weighted, use the weighted adjacency matrix. If not, use the binary adjacency matrix.\n",
    "\n",
    "For efficient storage and computation, store these sparse matrices in a [compressed sparse row (CSR) format](https://en.wikipedia.org/wiki/Sparse_matrix#Compressed_sparse_row_.28CSR.2C_CRS_or_Yale_format.29)."
   ]
  },
  {
   "cell_type": "code",
   "execution_count": 3,
   "metadata": {},
   "outputs": [],
   "source": [
    "D = scipy.sparse.spdiags(degrees, [0], n_nodes, n_nodes, format='csr')\n",
    "sW = scipy.sparse.csr_matrix(adjacency)\n",
    "L = D-sW\n",
    "\n",
    "Dsqrt = scipy.sparse.spdiags(1/scipy.sqrt(degrees), [0], n_nodes, n_nodes, format='csr')"
   ]
  },
  {
   "cell_type": "code",
   "execution_count": 4,
   "metadata": {},
   "outputs": [],
   "source": [
    "laplacian_combinatorial =  L\n",
    "laplacian_normalized =  Dsqrt.dot(L.dot(Dsqrt))"
   ]
  },
  {
   "cell_type": "markdown",
   "metadata": {},
   "source": [
    "Use one of them as the graph Laplacian $L$ for the rest of the milestone.\n",
    "We however encourage you to run the code with both to get a sense of the difference!"
   ]
  },
  {
   "cell_type": "code",
   "execution_count": 5,
   "metadata": {},
   "outputs": [
    {
     "data": {
      "text/plain": [
       "985"
      ]
     },
     "execution_count": 5,
     "metadata": {},
     "output_type": "execute_result"
    }
   ],
   "source": [
    "laplacian =  laplacian_normalized\n",
    "len(laplacian.toarray())"
   ]
  },
  {
   "cell_type": "markdown",
   "metadata": {},
   "source": [
    "### Question 2\n",
    "\n",
    "Compute the eigendecomposition of the Laplacian $L = U^\\top \\Lambda U$, where the columns $u_k \\in \\mathbb{R}^N$ of $U = [u_1, \\dots, u_N] \\in \\mathbb{R}^{N \\times N}$ are the eigenvectors and the diagonal elements $\\lambda_k = \\Lambda_{kk}$ are the corresponding eigenvalues.\n",
    "\n",
    "Make sure that the eigenvalues are ordered, i.e., $0 = \\lambda_1 \\leq \\lambda_2 \\leq \\dots \\leq \\lambda_N$."
   ]
  },
  {
   "cell_type": "code",
   "execution_count": 6,
   "metadata": {},
   "outputs": [],
   "source": [
    "eigenvalues, eigenvectors = scipy.sparse.linalg.eigsh(laplacian, k=n_nodes-1)\n",
    "eigenvalues = np.append([0], eigenvalues)\n",
    "first_eigvect = np.ones([n_nodes, 1])/n_nodes\n",
    "eig_temp = np.append(first_eigvect, eigenvectors, axis=1)\n",
    "eigenvectors = eig_temp.T\n",
    "assert eigenvectors.shape == (n_nodes, n_nodes)"
   ]
  },
  {
   "cell_type": "code",
   "execution_count": 7,
   "metadata": {},
   "outputs": [],
   "source": [
    "#idem for combinatorial laplacian:\n",
    "eigenvalues_comb, eigenvectors_comb = scipy.sparse.linalg.eigsh(laplacian_combinatorial, k=n_nodes-1)\n",
    "eigenvalues_comb = np.append([0], eigenvalues_comb)\n",
    "#first_eigvect = np.ones([n_nodes, 1])/n_nodes\n",
    "eig_temp = np.append(first_eigvect, eigenvectors_comb, axis=1)\n",
    "eigenvectors_comb = eig_temp.T\n",
    "assert eigenvectors_comb.shape == (n_nodes, n_nodes)"
   ]
  },
  {
   "cell_type": "code",
   "execution_count": 8,
   "metadata": {
    "scrolled": true
   },
   "outputs": [
    {
     "data": {
      "text/plain": [
       "array([[ 1.        , -0.00194863,  0.        , ...,  0.        ,\n",
       "         0.        ,  0.        ],\n",
       "       [-0.00194863,  1.        ,  0.        , ...,  0.        ,\n",
       "         0.        ,  0.        ],\n",
       "       [ 0.        ,  0.        ,  1.        , ...,  0.        ,\n",
       "         0.        ,  0.        ],\n",
       "       ...,\n",
       "       [ 0.        ,  0.        ,  0.        , ...,  1.        ,\n",
       "         0.        ,  0.        ],\n",
       "       [ 0.        ,  0.        ,  0.        , ...,  0.        ,\n",
       "         1.        , -0.01169611],\n",
       "       [ 0.        ,  0.        ,  0.        , ...,  0.        ,\n",
       "        -0.01169611,  1.        ]])"
      ]
     },
     "execution_count": 8,
     "metadata": {},
     "output_type": "execute_result"
    }
   ],
   "source": [
    "laplacian.toarray()"
   ]
  },
  {
   "cell_type": "markdown",
   "metadata": {},
   "source": [
    "Justify your choice of eigensolver."
   ]
  },
  {
   "cell_type": "markdown",
   "metadata": {},
   "source": [
    "We used the `scipy.sparse.linalg.eigsh` method to compute `n_nodes-1` eigenvalues and -vectors since we have a sparse symmetric laplacian matrix. We added manually the trivial 0 eigenvalue and its corresponding vector of ones (normalized)."
   ]
  },
  {
   "cell_type": "markdown",
   "metadata": {},
   "source": [
    "### Question 3\n",
    "\n",
    "We can write $L = S S^\\top$. What is the matrix $S$? What does $S^\\top x$, with $x \\in \\mathbb{R}^N$, compute?"
   ]
  },
  {
   "cell_type": "markdown",
   "metadata": {},
   "source": [
    "$S$ is the oriented incidence matrix. Its dimensions are `n_nodes * n_edges` and for each node $n$ it takes the value 1 if the node has the edge $m$ linked to him and 0 if not. In the case of a directed graph (not our case) the values are $\\pm$1 depending if the link goes in or out of the node (for undirected graphs, the $-1$ is assigned arbitrarily to one of the node connected by an edge).\n",
    "\n",
    "$S^Tx$ for a given $x \\in \\mathbb{R}^N$ gives us the gradient of $x$, $S^T[i] x$ returns the derivative of vector $x$ along the edge $[i]$."
   ]
  },
  {
   "cell_type": "markdown",
   "metadata": {},
   "source": [
    "### Question 4\n",
    "\n",
    "Show that $\\lambda_k = \\| S^\\top u_k \\|_2^2$, where $\\| \\cdot \\|_2^2$ denotes the squared Euclidean norm (a.k.a. squared $L^2$ norm)."
   ]
  },
  {
   "cell_type": "markdown",
   "metadata": {},
   "source": [
    "At first, we demonstrate it litteraly :\n",
    "$\\| S^\\top u_k \\|_2^2 = (S^\\top u_k)^\\top (S^\\top u_k) = u_k^\\top S S^\\top u_k = u_k^\\top L u_k = u_k^\\top \\lambda_k u_k = \\lambda_k u_k^\\top u_k = \\lambda_k$, knowing that $u_k$ is a normalized eigenvector of L.\n",
    "\n",
    "In our case of an undirected graph, we still need to use an oriented incidence matrix with $\\pm$1 instead of just $+1$. This makes the equation $L = S S^\\top$ true. We can now verify the above equation."
   ]
  },
  {
   "cell_type": "code",
   "execution_count": 13,
   "metadata": {},
   "outputs": [],
   "source": [
    "def matrix_to_list(matrix):\n",
    "    adj_list = {}\n",
    "    for i, node in enumerate(matrix):\n",
    "        connected_nodes = []\n",
    "        for neighbour_id, neighbour_w in enumerate(node):\n",
    "            if neighbour_w >0:\n",
    "                connected_nodes.append(neighbour_id)\n",
    "        adj_list[i] = connected_nodes\n",
    "    return adj_list"
   ]
  },
  {
   "cell_type": "code",
   "execution_count": 14,
   "metadata": {},
   "outputs": [],
   "source": [
    "adj_list = matrix_to_list(adjacency)"
   ]
  },
  {
   "cell_type": "code",
   "execution_count": 15,
   "metadata": {},
   "outputs": [],
   "source": [
    "def compute_incidence_mat(adj_list, n_nodes, n_edges):\n",
    "    \n",
    "    row = np.zeros((int)(2*n_edges))\n",
    "    col = np.zeros((int)(2*n_edges))\n",
    "    data = np.ones((int)(2*n_edges))\n",
    "    \n",
    "    index = 0\n",
    "    col_index = 0\n",
    "    \n",
    "    for node in range(0, n_nodes):\n",
    "        for neighbour in adj_list[node]:\n",
    "            if neighbour > node:\n",
    "                row[index] = node\n",
    "                col[index] = col_index\n",
    "                index +=1\n",
    "                row[index] = neighbour\n",
    "                col[index] = col_index\n",
    "                data[index] = -1\n",
    "                index +=1\n",
    "                col_index +=1\n",
    "    \n",
    "    sparse_incidence = scipy.sparse.csc_matrix((data, (row, col)),shape=(n_nodes, n_edges))\n",
    "    return sparse_incidence"
   ]
  },
  {
   "cell_type": "code",
   "execution_count": 26,
   "metadata": {},
   "outputs": [],
   "source": [
    "incidence = compute_incidence_mat(adj_list, n_nodes, (int)(n_edges))\n",
    "incidence_array = incidence.toarray()\n",
    "eigenvalue_Q4 = np.square(np.linalg.norm(np.matmul(incidence_array.T, eigenvectors_comb[8,:]),None, 0))\n",
    "#eigenvalues_Q4 = incidence_array.T * eigenvectors_comb"
   ]
  },
  {
   "cell_type": "code",
   "execution_count": 27,
   "metadata": {},
   "outputs": [
    {
     "data": {
      "text/plain": [
       "0.0"
      ]
     },
     "execution_count": 27,
     "metadata": {},
     "output_type": "execute_result"
    }
   ],
   "source": [
    "sum(sum(np.matmul(incidence_array, incidence_array.T)-laplacian_combinatorial.toarray()))"
   ]
  },
  {
   "cell_type": "code",
   "execution_count": 28,
   "metadata": {},
   "outputs": [
    {
     "data": {
      "text/plain": [
       "54.62853330673354"
      ]
     },
     "execution_count": 28,
     "metadata": {},
     "output_type": "execute_result"
    }
   ],
   "source": [
    "eigenvalue_Q4"
   ]
  },
  {
   "cell_type": "code",
   "execution_count": 29,
   "metadata": {},
   "outputs": [
    {
     "data": {
      "text/plain": [
       "54.628533306733495"
      ]
     },
     "execution_count": 29,
     "metadata": {},
     "output_type": "execute_result"
    }
   ],
   "source": [
    "eigenvalues_comb[8]"
   ]
  },
  {
   "cell_type": "code",
   "execution_count": 30,
   "metadata": {},
   "outputs": [],
   "source": [
    "# To test in compar with networkx\n",
    "\n",
    "#import networkx\n",
    "\n",
    "#G = networkx.Graph()\n",
    "#G = networkx.from_numpy_matrix(adjacency)\n",
    "#networkx_S = networkx.incidence_matrix(G).toarray()\n",
    "#sum(sum(networkx_S - incidence_array))\n",
    "\n",
    "#nx_L = networkx.normalized_laplacian_matrix(G, None, None)\n",
    "\n",
    "#sum(sum(nx_L.toarray()-laplacian.toarray()))\n",
    "#sum(sum(networkx.laplacian_matrix(G, None, None).toarray()-laplacian_combinatorial.toarray()))\n",
    "\n",
    "\n",
    "\n"
   ]
  },
  {
   "cell_type": "markdown",
   "metadata": {},
   "source": [
    "What does the quantity $\\| S^\\top x \\|_2^2$ tell us about $x$?"
   ]
  },
  {
   "cell_type": "markdown",
   "metadata": {},
   "source": [
    "This quantity represents the norm of the gradient and so the laplacian of x. "
   ]
  },
  {
   "cell_type": "markdown",
   "metadata": {},
   "source": [
    "### Question 5\n",
    "\n",
    "What is the value of $u_0$, both for the combinatorial and normalized Laplacians?"
   ]
  },
  {
   "cell_type": "markdown",
   "metadata": {},
   "source": [
    "It is a unit vector normalized according to the size of the graph."
   ]
  },
  {
   "cell_type": "markdown",
   "metadata": {},
   "source": [
    "### Question 6\n",
    "\n",
    "Look at the spectrum of the Laplacian by plotting the eigenvalues.\n",
    "Comment on what you observe."
   ]
  },
  {
   "cell_type": "code",
   "execution_count": 31,
   "metadata": {},
   "outputs": [
    {
     "data": {
      "image/png": "[encoded data removed]",
      "text/plain": [
       "<Figure size 432x288 with 1 Axes>"
      ]
     },
     "metadata": {
      "needs_background": "light"
     },
     "output_type": "display_data"
    }
   ],
   "source": [
    "plt.scatter(range(n_nodes), eigenvalues)\n",
    "plt.xlabel('Eigenvalue index [k]')\n",
    "plt.ylabel('$\\lambda_k$')\n",
    "plt.title('Eigenvalues spectrum')\n",
    "plt.show()"
   ]
  },
  {
   "cell_type": "markdown",
   "metadata": {},
   "source": [
    "We have a small group of small eigenvalues near 0, then a bigger group around 0.8 and finally most of the eigenvalues are more or less equal to 1."
   ]
  },
  {
   "cell_type": "markdown",
   "metadata": {},
   "source": [
    "How many connected components are there in your graph? Answer using the eigenvalues only."
   ]
  },
  {
   "cell_type": "code",
   "execution_count": 32,
   "metadata": {},
   "outputs": [
    {
     "data": {
      "text/plain": [
       "array([0.        , 0.04998608, 0.11689439, 0.16045262, 0.59778985])"
      ]
     },
     "execution_count": 32,
     "metadata": {},
     "output_type": "execute_result"
    }
   ],
   "source": [
    "eigenvalues[:5]"
   ]
  },
  {
   "cell_type": "markdown",
   "metadata": {},
   "source": [
    "Considering the eigenvalues close to zero, we estimate the number of connected components to 4 since after the fourth eigenvalues start to increase much more rapidly."
   ]
  },
  {
   "cell_type": "markdown",
   "metadata": {},
   "source": [
    "Is there an upper bound on the eigenvalues, i.e., what is the largest possible eigenvalue? Answer for both the combinatorial and normalized Laplacians."
   ]
  },
  {
   "cell_type": "code",
   "execution_count": 33,
   "metadata": {},
   "outputs": [
    {
     "name": "stdout",
     "output_type": "stream",
     "text": [
      "Max eigenvalue for normalized laplacian: 1.1419436222093786 \n",
      "Max eigenvalue for combinatorial laplacian: 604.0304047015075\n"
     ]
    }
   ],
   "source": [
    "print('Max eigenvalue for normalized laplacian:',max(eigenvalues),\n",
    "      '\\nMax eigenvalue for combinatorial laplacian:', max(eigenvalues_comb))"
   ]
  },
  {
   "cell_type": "markdown",
   "metadata": {},
   "source": [
    "For normalized eigenvalue, the uper bound is 2 if the graph is bipartite (it is).\n",
    "For combinatorial, there is no limit."
   ]
  },
  {
   "cell_type": "markdown",
   "metadata": {},
   "source": [
    "## 2 Laplacian eigenmaps\n",
    "\n",
    "*Laplacian eigenmaps* is a method to embed a graph $\\mathcal{G}$ in a $d$-dimensional Euclidean space.\n",
    "That is, it associates a vector $z_i \\in \\mathbb{R}^d$ to every node $v_i \\in \\mathcal{V}$.\n",
    "The graph $\\mathcal{G}$ is thus embedded as $Z \\in \\mathbb{R}^{N \\times d}$."
   ]
  },
  {
   "cell_type": "markdown",
   "metadata": {},
   "source": [
    "### Question 7\n",
    "\n",
    "What do we use Laplacian eigenmaps for? (Or more generally, graph embeddings.)"
   ]
  },
  {
   "cell_type": "markdown",
   "metadata": {},
   "source": [
    "To reduce the dimensionality non-linearly of our graph, reduce computational cost of further calculations and more easily perform clustering on our dataset."
   ]
  },
  {
   "cell_type": "markdown",
   "metadata": {},
   "source": [
    "### Question 8\n",
    "\n",
    "Embed your graph in $d=2$ dimensions with Laplacian eigenmaps.\n",
    "Try with and without re-normalizing the eigenvectors by the degrees, then keep the one your prefer.\n",
    "\n",
    "**Recompute** the eigenvectors you need with a partial eigendecomposition method for sparse matrices.\n",
    "When $k \\ll N$ eigenvectors are needed, partial eigendecompositions are much more efficient than complete eigendecompositions.\n",
    "A partial eigendecomposition scales as $\\Omega(k |\\mathcal{E}|$), while a complete eigendecomposition costs $\\mathcal{O}(N^3)$ operations."
   ]
  },
  {
   "cell_type": "code",
   "execution_count": 34,
   "metadata": {},
   "outputs": [
    {
     "data": {
      "text/plain": [
       "array([[ 4.60991481e-05,  4.60991481e-05,  4.60991481e-05, ...,\n",
       "         4.60991481e-05,  4.60991481e-05,  4.60991481e-05],\n",
       "       [ 8.44061469e-04,  8.40999768e-04,  6.51964885e-04, ...,\n",
       "        -1.55075773e-04, -3.82824001e-03, -3.77728472e-03],\n",
       "       [ 3.26236250e-05,  1.85922806e-05,  4.34500704e-03, ...,\n",
       "         6.78505813e-03,  4.39179037e-03,  4.02449121e-03],\n",
       "       ...,\n",
       "       [ 1.29021384e-04,  2.02086012e-04, -1.43350400e-05, ...,\n",
       "        -1.54507262e-06,  3.51440967e-08,  3.06970571e-08],\n",
       "       [-1.93079253e-04, -1.62932598e-04,  1.37985244e-05, ...,\n",
       "         1.24666061e-06, -2.47123267e-08, -1.72943117e-08],\n",
       "       [ 1.73733397e-04,  1.72001970e-04, -1.55807377e-05, ...,\n",
       "        -1.26832210e-07,  2.92607248e-08,  3.19118052e-08]])"
      ]
     },
     "execution_count": 34,
     "metadata": {},
     "output_type": "execute_result"
    }
   ],
   "source": [
    "F = np.matmul(np.linalg.inv(np.sqrt(D.toarray())), eigenvectors_comb)\n",
    "F # re-normalized eigenvectors by the degrees"
   ]
  },
  {
   "cell_type": "markdown",
   "metadata": {},
   "source": [
    "Plot the nodes embedded in 2D. Comment on what you see."
   ]
  },
  {
   "cell_type": "code",
   "execution_count": 35,
   "metadata": {},
   "outputs": [
    {
     "data": {
      "image/png": "[encoded data removed]",
      "text/plain": [
       "<Figure size 432x288 with 1 Axes>"
      ]
     },
     "metadata": {
      "needs_background": "light"
     },
     "output_type": "display_data"
    }
   ],
   "source": [
    "plt.scatter(eigenvectors[1,:], eigenvectors[2,:])\n",
    "plt.xlabel('e1')\n",
    "plt.ylabel('e2')\n",
    "plt.title('Laplacian eigenmaps using the eigenvectors of the normalized laplacian')\n",
    "plt.show()"
   ]
  },
  {
   "cell_type": "code",
   "execution_count": 37,
   "metadata": {},
   "outputs": [
    {
     "data": {
      "image/png": "[encoded data removed]",
      "text/plain": [
       "<Figure size 432x288 with 1 Axes>"
      ]
     },
     "metadata": {
      "needs_background": "light"
     },
     "output_type": "display_data"
    }
   ],
   "source": [
    "plt.scatter(F[1,:], F[2,:])\n",
    "plt.xlabel('e1')\n",
    "plt.ylabel('e2')\n",
    "plt.title('Laplacian eigenmaps using the normalized eigenvectors (by the degrees) of the combinatorial laplacian')\n",
    "plt.show()"
   ]
  },
  {
   "cell_type": "code",
   "execution_count": 40,
   "metadata": {},
   "outputs": [
    {
     "data": {
      "image/png": "[encoded data removed]",
      "text/plain": [
       "<Figure size 432x288 with 1 Axes>"
      ]
     },
     "metadata": {
      "needs_background": "light"
     },
     "output_type": "display_data"
    }
   ],
   "source": [
    "plt.scatter(eigenvectors_comb[1,:], eigenvectors_comb[2,:])\n",
    "plt.xlabel('e1')\n",
    "plt.ylabel('e2')\n",
    "plt.title('Laplacian eigenmaps using the eigenvectors of the combinatorial laplacian')\n",
    "plt.show()"
   ]
  },
  {
   "cell_type": "markdown",
   "metadata": {},
   "source": [
    "We can see a sort of clustering in that case. Like a 3-4 clusters dataset. It shows the same thing as the adjacency matrix where we are able to identify a 3-4 cluster shape even with the 4 music style that we choose."
   ]
  },
  {
   "cell_type": "markdown",
   "metadata": {},
   "source": [
    "### Question 9"
   ]
  },
  {
   "cell_type": "markdown",
   "metadata": {},
   "source": [
    "What does the embedding $Z \\in \\mathbb{R}^{N \\times d}$ preserve?"
   ]
  },
  {
   "cell_type": "markdown",
   "metadata": {},
   "source": [
    "The number of nodes and the strongest similarites between them are preserved."
   ]
  },
  {
   "cell_type": "markdown",
   "metadata": {},
   "source": [
    "## 3 Spectral clustering\n",
    "\n",
    "*Spectral clustering* is a method to partition a graph into distinct clusters.\n",
    "The method associates a feature vector $z_i \\in \\mathbb{R}^d$ to every node $v_i \\in \\mathcal{V}$, then runs [$k$-means](https://en.wikipedia.org/wiki/K-means_clustering) in the embedding space $\\mathbb{R}^d$ to assign each node $v_i \\in \\mathcal{V}$ to a cluster $c_j \\in \\mathcal{C}$, where $k = |\\mathcal{C}|$ is the number of desired clusters."
   ]
  },
  {
   "cell_type": "markdown",
   "metadata": {},
   "source": [
    "### Question 10\n",
    "\n",
    "Choose $k$ and $d$. How did you get to those numbers?"
   ]
  },
  {
   "cell_type": "markdown",
   "metadata": {},
   "source": [
    "k = 4 as we chose 4 different music styles. d = 4 because there is a gap in the laplacian spectrum after the fourth eignevalue."
   ]
  },
  {
   "cell_type": "code",
   "execution_count": 41,
   "metadata": {},
   "outputs": [],
   "source": [
    "k = 4\n",
    "d = 4"
   ]
  },
  {
   "cell_type": "markdown",
   "metadata": {},
   "source": [
    "### Question 11\n",
    "\n",
    "1. Embed your graph in $\\mathbb{R}^d$ as $Z \\in \\mathbb{R}^{N \\times d}$.\n",
    "   Try with and without re-normalizing the eigenvectors by the degrees, then keep the one your prefer.\n",
    "1. If you want $k=2$ clusters, partition with the Fiedler vector. For $k > 2$ clusters, run $k$-means on $Z$. Don't implement $k$-means, use the `KMeans` class imported from scikit-learn."
   ]
  },
  {
   "cell_type": "code",
   "execution_count": 42,
   "metadata": {},
   "outputs": [],
   "source": [
    "Z = eigenvectors_comb[1:d,:]\n",
    "Z_F = F[1:d,:]"
   ]
  },
  {
   "cell_type": "code",
   "execution_count": 43,
   "metadata": {},
   "outputs": [
    {
     "data": {
      "text/plain": [
       "(985,)"
      ]
     },
     "execution_count": 43,
     "metadata": {},
     "output_type": "execute_result"
    }
   ],
   "source": [
    "k_means = KMeans(k)\n",
    "k_means.fit(Z.T) \n",
    "k_means.labels_.shape"
   ]
  },
  {
   "cell_type": "code",
   "execution_count": 44,
   "metadata": {},
   "outputs": [
    {
     "data": {
      "text/plain": [
       "array([593, 188,  96, 108], dtype=int64)"
      ]
     },
     "execution_count": 44,
     "metadata": {},
     "output_type": "execute_result"
    }
   ],
   "source": [
    "np.bincount(k_means.labels_)"
   ]
  },
  {
   "cell_type": "markdown",
   "metadata": {},
   "source": [
    "### Question 12\n",
    "\n",
    "Use the computed cluster assignment to reorder the adjacency matrix $A$.\n",
    "What do you expect? What do you observe?"
   ]
  },
  {
   "cell_type": "markdown",
   "metadata": {},
   "source": [
    "We expect it to be similar to our original adjacency matrix since it is ordered by music genre in its construction (see Milestone 1, Part 1.A). So if the clustering actually grouped nodes by genre the reordering of the adjacency matrix should return the same matrix, or maybe with some swapped genres.\n",
    "\n",
    "This is not the case apparently since the distribution of the 985 nodes in the 4 clusters is not close to the one we have in our original dataset.\n",
    "\n",
    "As a reminder: we have (in order) 346 pop tracks, 265 classic tracks, 241 jazz tracks and 133 international tracks. Here K-means clustering finds 4 clusters of sizes 594, 188, 107 and 96."
   ]
  },
  {
   "cell_type": "markdown",
   "metadata": {},
   "source": [
    "We set our genres numbers as: 0 = pop, 1 = classic, 2 = jazz, 3 = international"
   ]
  },
  {
   "cell_type": "code",
   "execution_count": 45,
   "metadata": {},
   "outputs": [],
   "source": [
    "#quantities of entries for each music genre\n",
    "index_classic = 346\n",
    "index_jazz = index_classic + 265\n",
    "index_international = index_jazz + 241\n",
    "#to store the indices of the adjacency matrix\n",
    "#and the theoretical / found cluster assignements\n",
    "labelized = np.zeros((n_nodes,3))\n",
    "\n",
    "for i in range(n_nodes):\n",
    "    labelized[i,0] = i\n",
    "    if i < index_classic:\n",
    "        labelized[i,1] = 0\n",
    "    if index_classic <= i < index_jazz:\n",
    "        labelized[i,1] = 1\n",
    "    if index_jazz <= i < index_international:\n",
    "        labelized[i,1] = 2\n",
    "    if  i >= index_international:\n",
    "        labelized[i,1] = 3\n",
    "\n",
    "labelized[:,2] = k_means.labels_\n",
    "sorted_by_found_cluster = labelized[labelized[:,2].argsort()]\n",
    "adjacency_sorted = np.zeros([n_nodes,n_nodes])\n",
    "# we rearrange the adjacency according to the indices sortedby cluster\n",
    "for i in range(n_nodes):\n",
    "    for j in range(n_nodes):\n",
    "        adjacency_sorted[i][j] = adjacency[int(sorted_by_found_cluster[i,0])][int(sorted_by_found_cluster[j,0])]"
   ]
  },
  {
   "cell_type": "code",
   "execution_count": 46,
   "metadata": {},
   "outputs": [
    {
     "data": {
      "image/png": "[encoded data removed]",
      "text/plain": [
       "<Figure size 720x288 with 2 Axes>"
      ]
     },
     "metadata": {
      "needs_background": "light"
     },
     "output_type": "display_data"
    }
   ],
   "source": [
    "# Your code here.\n",
    "plt.figure(figsize=(10,4))\n",
    "plt.subplot(121)\n",
    "plt.title('Original adjacency matrix')\n",
    "plt.spy(adjacency)\n",
    "plt.subplot(122)\n",
    "plt.title('Reordered adjacency matrix')\n",
    "plt.spy(adjacency_sorted)\n",
    "plt.show()"
   ]
  },
  {
   "cell_type": "markdown",
   "metadata": {},
   "source": [
    "Unlike what we could have hoped the clustering did not match our music genres, instead it generated a huge cluster corresponding mostly to what we have in the lower right part of our original adjacency matrix and then created three smaller clusters with the rest.\n",
    "From this we don't expect a very high classification accuracy."
   ]
  },
  {
   "cell_type": "markdown",
   "metadata": {},
   "source": [
    "### Question 13\n",
    "\n",
    "If you have ground truth clusters for your dataset, compare the cluster assignment from spectral clustering to the ground truth.\n",
    "A simple quantitative measure is to compute the percentage of nodes that have been correctly categorized.\n",
    "If you don't have a ground truth, qualitatively assess the quality of the clustering.\n",
    "\n",
    "Ground truth clusters are the \"real clusters\".\n",
    "For example, the genre of musical tracks in FMA, the category of Wikipedia articles, the spammer status of individuals, etc.\n",
    "Look for the `labels` in the [dataset descriptions](https://github.com/mdeff/ntds_2018/tree/master/projects/README.md)."
   ]
  },
  {
   "cell_type": "code",
   "execution_count": 47,
   "metadata": {},
   "outputs": [],
   "source": [
    "# Your code here.\n",
    "import pandas as pd\n",
    "from scipy.optimize import linear_sum_assignment"
   ]
  },
  {
   "cell_type": "markdown",
   "metadata": {},
   "source": [
    "We encounter a problem of assignment: each cluster should be assigned to one and only one music genre. The problem is that K-means put tracks from several genres in each cluster so we need to determine which one is the best suited for each genre before computing the quality of the clustering (which should be optimal in this case).\n",
    "\n",
    "To this end we use a linear sum assignment method based on the [Hungarian algorithm](https://en.wikipedia.org/wiki/Hungarian_algorithm). To use it we compute a cost matrix based on how many points of a given genre we find in a cluster compared to the other genres."
   ]
  },
  {
   "cell_type": "code",
   "execution_count": 48,
   "metadata": {},
   "outputs": [],
   "source": [
    "df_sorted = pd.DataFrame(sorted_by_found_cluster, columns=['indices','genres','cluster'])\n",
    "df_clusters = df_sorted.drop(columns=['indices'])"
   ]
  },
  {
   "cell_type": "code",
   "execution_count": 49,
   "metadata": {},
   "outputs": [],
   "source": [
    "C = np.zeros([k,k])\n",
    "\n",
    "for i in range(k):\n",
    "    # for each cluster:\n",
    "    i_cluster = df_clusters['cluster'] == i\n",
    "    df_i_cluster = df_clusters[i_cluster]\n",
    "    for j in range(k):\n",
    "        # for each genre to assign to a cluster i:\n",
    "        cost = 0\n",
    "        vals = df_i_cluster['genres'].value_counts()\n",
    "        for m in vals.index:\n",
    "            # increase cost by number of tracks not in the genre j, decrease if in j\n",
    "            if m==j:\n",
    "                cost -= vals[m]\n",
    "            else:\n",
    "                cost += vals[m]\n",
    "        C[i,j] = cost"
   ]
  },
  {
   "cell_type": "code",
   "execution_count": 50,
   "metadata": {},
   "outputs": [],
   "source": [
    "# application of the method, the col_ind contains the assigned genre to the clusters\n",
    "row_ind, col_ind = linear_sum_assignment(C)"
   ]
  },
  {
   "cell_type": "code",
   "execution_count": 51,
   "metadata": {},
   "outputs": [
    {
     "name": "stdout",
     "output_type": "stream",
     "text": [
      "The 1st cluster is assigned to the genre 1, the 2nd to genre 3, the 3rd to genre 0 and the last to genre 2\n"
     ]
    }
   ],
   "source": [
    "print('The 1st cluster is assigned to the genre {0}, the 2nd to genre {1}, the 3rd to genre {2} and the last to genre {3}'.format(col_ind[0],col_ind[1],col_ind[2],col_ind[3]))"
   ]
  },
  {
   "cell_type": "code",
   "execution_count": 52,
   "metadata": {},
   "outputs": [
    {
     "data": {
      "text/plain": [
       "0.3695431472081218"
      ]
     },
     "execution_count": 52,
     "metadata": {},
     "output_type": "execute_result"
    }
   ],
   "source": [
    "true_positives = 0\n",
    "for i in range(k):\n",
    "    true_positives += sum(df_clusters[df_clusters['cluster'] == i].genres == col_ind[i])\n",
    "\n",
    "true_positives / n_nodes"
   ]
  },
  {
   "cell_type": "markdown",
   "metadata": {},
   "source": [
    "By summing the amount of datapoints determined as correctly classified in each cluster and dividing it by the total number of points we obtain **37%** of correctly classified music tracks in their corresponding genre."
   ]
  },
  {
   "cell_type": "markdown",
   "metadata": {},
   "source": [
    "### Question 14\n",
    "\n",
    "Plot the cluster assignment (one color per cluster) on the 2D embedding you computed above with Laplacian eigenmaps."
   ]
  },
  {
   "cell_type": "code",
   "execution_count": 53,
   "metadata": {},
   "outputs": [
    {
     "data": {
      "image/png": "[encoded data removed]",
      "text/plain": [
       "<Figure size 432x288 with 1 Axes>"
      ]
     },
     "metadata": {
      "needs_background": "light"
     },
     "output_type": "display_data"
    }
   ],
   "source": [
    "plt.scatter(eigenvectors_comb[1,:], eigenvectors_comb[2,:], c = k_means.labels_)\n",
    "plt.xlabel('e1')\n",
    "plt.ylabel('e2')\n",
    "plt.title('Cluster assignement on the laplacian eigenmap')\n",
    "plt.show()"
   ]
  },
  {
   "cell_type": "markdown",
   "metadata": {},
   "source": [
    "### Question 15\n",
    "\n",
    "Why did we use the eigenvectors of the graph Laplacian as features? Could we use other features for clustering?"
   ]
  },
  {
   "cell_type": "markdown",
   "metadata": {},
   "source": [
    "The Laplacian eigenmaps method give also the number of cluster. The features are the projections, so we could have used other non-linear dimensionality reduction method as Isomap or kernel PCA for having other projections."
   ]
  },
  {
   "cell_type": "code",
   "execution_count": null,
   "metadata": {},
   "outputs": [],
   "source": []
  }
 ],
 "metadata": {
  "kernelspec": {
   "display_name": "Python 3",
   "language": "python",
   "name": "python3"
  },
  "language_info": {
   "codemirror_mode": {
    "name": "ipython",
    "version": 3
   },
   "file_extension": ".py",
   "mimetype": "text/x-python",
   "name": "python",
   "nbconvert_exporter": "python",
   "pygments_lexer": "ipython3",
   "version": "3.6.6"
  }
 },
 "nbformat": 4,
 "nbformat_minor": 2
}
