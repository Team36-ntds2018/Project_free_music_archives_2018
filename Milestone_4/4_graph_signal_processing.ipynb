{
 "cells": [
  {
   "cell_type": "markdown",
   "metadata": {},
   "source": [
    "# [NTDS'18] milestone 4: graph signal processing\n",
    "[ntds'18]: https://github.com/mdeff/ntds_2018\n",
    "\n",
    "[Rodrigo Pena](https://people.epfl.ch/254838), [EPFL LTS2](http://lts2.epfl.ch)"
   ]
  },
  {
   "cell_type": "markdown",
   "metadata": {},
   "source": [
    "## Students\n",
    "\n",
    "* Team: `36`\n",
    "* Students: `Muller Christophe, Bernard-Michel Martial, Coullery Ludovic, Faraut Victor`\n",
    "* Dataset: `Free music archive`"
   ]
  },
  {
   "cell_type": "markdown",
   "metadata": {},
   "source": [
    "## Rules\n",
    "\n",
    "* Milestones have to be completed by teams. No collaboration between teams is allowed.\n",
    "* Textual answers shall be short. Typically one to two sentences.\n",
    "* Code has to be clean.\n",
    "* You cannot import any other library than we imported.\n",
    "* When submitting, the notebook is executed and the results are stored. I.e., if you open the notebook again it should show numerical results and plots. We won't be able to execute your notebooks.\n",
    "* The notebook is re-executed from a blank state before submission. That is to be sure it is reproducible. You can click \"Kernel\" then \"Restart & Run All\" in Jupyter."
   ]
  },
  {
   "cell_type": "markdown",
   "metadata": {},
   "source": [
    "## Objective\n",
    "\n",
    "The goal of this milestone is to do some Graph Signal Processing (GSP) on the data of your project.\n",
    "\n",
    "### A note about plotting\n",
    "\n",
    "There are several questions in this milestone that ask you to plot a signal on your network.\n",
    "There are several ways from which you could approach it.\n",
    "In all cases, compute the position of the nodes a single time at the beginning, as this is likely to be a costly operation.\n",
    "Using a single layout for all the graph plots will also make it easier to compare the plots.\n",
    "Indeed, the only thing changing between plots is the signal displayed.\n",
    "You can represent the features/labels lying on the graph via node **colors**.\n",
    "To do so, make sure to have a consistent color map throughout and remember to display a colorbar and scale in all plots, so that we can tell what numbers the colors represent.\n",
    "\n",
    "* An option is to use the **Laplacian eigenmaps** that you have seen in the previous milestone to embed your graph on the plane. For example:\n",
    "  ```\n",
    "  from matplotlib import pyplot as plt\n",
    "  plt.scatter(eigenvectors[:, 1], eigenvectors[:, 2], c=signal, alpha=0.5)\n",
    "  plt.colorbar()\n",
    "  ```\n",
    "* Another option is to use the plotting capabilities of **[NetworkX](https://networkx.github.io)**.\n",
    "  See the documentation of its [drawing methods](https://networkx.github.io/documentation/stable/reference/drawing.html).\n",
    "  For example:\n",
    "  ```\n",
    "  import networkx as nx\n",
    "  graph = nx.from_scipy_sparse_matrix(adjacency)\n",
    "  coords = nx.spring_layout(graph)  # Force-directed layout.\n",
    "  coords = eigenvectors[:, 1:3]  # Laplacian eigenmaps.\n",
    "  nx.draw_networkx_nodes(graph, coords, node_size=60, node_color=signal)\n",
    "  nx.draw_networkx_edges(graph, coords, alpha=0.3)\n",
    "  ```\n",
    "* Another option is to use the plotting capabilities of the **[PyGSP](https://github.com/epfl-lts2/pygsp)**, a Python package for Graph Signal Processing.\n",
    "  **Note that your are forbidden to use the PyGSP for anything else than plotting.**\n",
    "  See the documentation of its [plotting utilities](https://pygsp.readthedocs.io/en/stable/reference/plotting.html).\n",
    "  For example:\n",
    "  ```\n",
    "  import pygsp as pg\n",
    "  graph = pg.graphs.Graph(adjacency)\n",
    "  graph.set_coordinates('spring')  # Force-directed layout.\n",
    "  graph.set_coordinates(eigenvectors[:, 1:3])  # Laplacian eigenmaps.\n",
    "  graph.plot_signal(signal)\n",
    "  ```\n",
    "* Yet another option is to save your graph on disk, use **[Gephi](https://gephi.org)** externally, to visualize the graph, save the graph with the Gephi coordinates and finally load the nodes coordinates back into the notebook.\n",
    "\n",
    "We encourage you to try all the above methods before making your choice. Then be consistent and use only one throughout the milestone.\n",
    "NetworkX and PyGSP should already be installed in your environement. If that's not the case, install with `conda install networkx pygsp` (after activating the `ntds_2018` environment)."
   ]
  },
  {
   "cell_type": "markdown",
   "metadata": {},
   "source": [
    "## 0 - Load your network"
   ]
  },
  {
   "cell_type": "code",
   "execution_count": 7,
   "metadata": {},
   "outputs": [],
   "source": [
    "%matplotlib inline"
   ]
  },
  {
   "cell_type": "markdown",
   "metadata": {},
   "source": [
    "If you get a `No module named 'pyunlocbox'` error when running the below cell, install the [pyunlocbox](https://github.com/epfl-lts2/pyunlocbox) with `conda install pyunlocbox` (after activating the `ntds_2018` environment)."
   ]
  },
  {
   "cell_type": "code",
   "execution_count": 8,
   "metadata": {},
   "outputs": [],
   "source": [
    "import numpy as np\n",
    "from scipy import sparse\n",
    "import scipy.sparse.linalg\n",
    "from matplotlib import pyplot as plt\n",
    "from pyunlocbox import functions, solvers"
   ]
  },
  {
   "cell_type": "code",
   "execution_count": 9,
   "metadata": {},
   "outputs": [],
   "source": [
    "adjacency = np.load('../Milestone_1/adjacency.npy')\n",
    "n_nodes = np.size(adjacency,1) # the number of nodes in the network\n",
    "n_edges = sum(sum(adjacency!=0))/2 # number of edges in the network\n",
    "degrees = sum(adjacency!=0)\n",
    "\n",
    "adjacency[adjacency>0] =1"
   ]
  },
  {
   "cell_type": "markdown",
   "metadata": {},
   "source": [
    "For this milestone, all we will need is a set of features/labels for each of the nodes on the network, as well as the Laplacian, $L,$ and Gradient, $\\nabla_G,$ matrices that you have computed for your network while working on milestone 3.\n",
    "\n",
    "Import those objects in the cell below (or recompute the Laplacian and Gradient from your stored adjacency matrix, if you wish).\n",
    "\n",
    "_Note_: If your features/labels are not floating-point numbers, please convert them. For example, if your data has labels \"cat\" and \"dog\" for nodes that represent cats or dogs, respectively, you may assign the number `1.0` for the label \"cat\" and the number `-1.0` for the label \"dog\".  "
   ]
  },
  {
   "cell_type": "code",
   "execution_count": 10,
   "metadata": {},
   "outputs": [],
   "source": [
    "D = scipy.sparse.spdiags(degrees, [0], n_nodes, n_nodes, format='csr')\n",
    "sW = scipy.sparse.csr_matrix(adjacency)\n",
    "laplacian = D-sW # combinatory\n",
    "\n",
    "#Dsqrt = scipy.sparse.spdiags(1/scipy.sqrt(degrees), [0], n_nodes, n_nodes, format='csr')\n"
   ]
  },
  {
   "cell_type": "code",
   "execution_count": 11,
   "metadata": {},
   "outputs": [],
   "source": [
    "def matrix_to_list(matrix):\n",
    "    adj_list = {}\n",
    "    for i, node in enumerate(matrix):\n",
    "        connected_nodes = []\n",
    "        for neighbour_id, neighbour_w in enumerate(node):\n",
    "            if neighbour_w >0:\n",
    "                connected_nodes.append(neighbour_id)\n",
    "        adj_list[i] = connected_nodes\n",
    "    return adj_list"
   ]
  },
  {
   "cell_type": "code",
   "execution_count": 12,
   "metadata": {},
   "outputs": [],
   "source": [
    "adj_list = matrix_to_list(adjacency)"
   ]
  },
  {
   "cell_type": "code",
   "execution_count": 13,
   "metadata": {},
   "outputs": [],
   "source": [
    "def compute_incidence_mat(adj_list, n_nodes, n_edges):\n",
    "    \n",
    "    row = np.zeros((int)(2*n_edges))\n",
    "    col = np.zeros((int)(2*n_edges))\n",
    "    data = np.ones((int)(2*n_edges))\n",
    "    \n",
    "    index = 0\n",
    "    col_index = 0\n",
    "    \n",
    "    for node in range(0, n_nodes):\n",
    "        for neighbour in adj_list[node]:\n",
    "            if neighbour > node:\n",
    "                row[index] = node\n",
    "                col[index] = col_index\n",
    "                index +=1\n",
    "                row[index] = neighbour\n",
    "                col[index] = col_index\n",
    "                data[index] = -1\n",
    "                index +=1\n",
    "                col_index +=1\n",
    "    \n",
    "    sparse_incidence = scipy.sparse.csc_matrix((data, (row, col)),shape=(n_nodes, n_edges))\n",
    "    return sparse_incidence"
   ]
  },
  {
   "cell_type": "code",
   "execution_count": 14,
   "metadata": {},
   "outputs": [],
   "source": [
    "incidence = compute_incidence_mat(adj_list, n_nodes, (int)(n_edges))\n",
    "gradient = incidence.toarray()\n",
    "\n"
   ]
  },
  {
   "cell_type": "code",
   "execution_count": 15,
   "metadata": {},
   "outputs": [
    {
     "ename": "NameError",
     "evalue": "name 'k_means' is not defined",
     "output_type": "error",
     "traceback": [
      "\u001b[1;31m---------------------------------------------------------------------------\u001b[0m",
      "\u001b[1;31mNameError\u001b[0m                                 Traceback (most recent call last)",
      "\u001b[1;32m<ipython-input-15-110b9e262e13>\u001b[0m in \u001b[0;36m<module>\u001b[1;34m()\u001b[0m\n\u001b[0;32m     16\u001b[0m         \u001b[0mlabelized\u001b[0m\u001b[1;33m[\u001b[0m\u001b[0mi\u001b[0m\u001b[1;33m,\u001b[0m\u001b[1;36m1\u001b[0m\u001b[1;33m]\u001b[0m \u001b[1;33m=\u001b[0m \u001b[1;36m3\u001b[0m\u001b[1;33m\u001b[0m\u001b[1;33m\u001b[0m\u001b[0m\n\u001b[0;32m     17\u001b[0m \u001b[1;33m\u001b[0m\u001b[0m\n\u001b[1;32m---> 18\u001b[1;33m \u001b[0mlabelized\u001b[0m\u001b[1;33m[\u001b[0m\u001b[1;33m:\u001b[0m\u001b[1;33m,\u001b[0m\u001b[1;36m2\u001b[0m\u001b[1;33m]\u001b[0m \u001b[1;33m=\u001b[0m \u001b[0mk_means\u001b[0m\u001b[1;33m.\u001b[0m\u001b[0mlabels_\u001b[0m\u001b[1;33m\u001b[0m\u001b[1;33m\u001b[0m\u001b[0m\n\u001b[0m\u001b[0;32m     19\u001b[0m \u001b[1;33m\u001b[0m\u001b[0m\n\u001b[0;32m     20\u001b[0m \u001b[0msorted_by_found_cluster\u001b[0m \u001b[1;33m=\u001b[0m \u001b[0mlabelized\u001b[0m\u001b[1;33m[\u001b[0m\u001b[0mlabelized\u001b[0m\u001b[1;33m[\u001b[0m\u001b[1;33m:\u001b[0m\u001b[1;33m,\u001b[0m\u001b[1;36m2\u001b[0m\u001b[1;33m]\u001b[0m\u001b[1;33m.\u001b[0m\u001b[0margsort\u001b[0m\u001b[1;33m(\u001b[0m\u001b[1;33m)\u001b[0m\u001b[1;33m]\u001b[0m\u001b[1;33m\u001b[0m\u001b[1;33m\u001b[0m\u001b[0m\n",
      "\u001b[1;31mNameError\u001b[0m: name 'k_means' is not defined"
     ]
    }
   ],
   "source": []
  },
  {
   "cell_type": "markdown",
   "metadata": {},
   "source": [
    "## 1 - Graph Fourier Transform\n",
    "\n",
    "In this section we will observe how your feature/label vector looks like in the \"Graph Fourier\" domain."
   ]
  },
  {
   "cell_type": "markdown",
   "metadata": {
    "inputHidden": false,
    "outputHidden": false
   },
   "source": [
    "### Question 1\n",
    "\n",
    "Compute the Fourier basis vectors and the Laplacian eigenvalues. Make sure to order those from smaller to larger, $\\lambda_0 \\leq \\lambda_1 \\leq \\dots \\leq \\lambda_{N-1},$ and use the same ordering for the Fourier basis vectors."
   ]
  },
  {
   "cell_type": "code",
   "execution_count": 17,
   "metadata": {
    "inputHidden": false,
    "outputHidden": false
   },
   "outputs": [],
   "source": [
    "eigenvalues, eigenvectors = scipy.sparse.linalg.eigsh(laplacian, k=n_nodes-1)\n",
    "\n",
    "eigenvalues = np.append([0], eigenvalues)\n",
    "#U = # Ordered graph Fourier basis."
   ]
  },
  {
   "cell_type": "code",
   "execution_count": 18,
   "metadata": {},
   "outputs": [
    {
     "data": {
      "text/plain": [
       "array([  0.        ,   7.2791162 ,  14.76529068,  20.10285737,\n",
       "        43.71407011,  46.67351268,  51.36926142,  53.83926334,\n",
       "        54.62853331,  57.55257718,  60.32557594,  60.51710417,\n",
       "        61.3818333 ,  63.79481437,  64.98898547,  67.32164193,\n",
       "        67.99613531,  68.77698179,  69.67185512,  69.87942801,\n",
       "        73.34483782,  74.74787063,  75.22328476,  75.66596257,\n",
       "        77.01679991,  77.97694622,  78.87342974,  80.15589906,\n",
       "        80.31999619,  80.70617852,  81.04700576,  81.60513516,\n",
       "        82.46216725,  83.04213545,  83.24247356,  83.83871001,\n",
       "        84.29921994,  85.        ,  85.15045872,  85.39242231,\n",
       "        85.58535556,  85.94848337,  86.06876414,  86.37654063,\n",
       "        86.46466024,  86.79679547,  86.95628045,  87.40504151,\n",
       "        88.12015798,  88.43488086,  88.7588453 ,  89.        ,\n",
       "        89.        ,  89.        ,  89.24284424,  89.49332513,\n",
       "        89.57394774,  89.75312242,  90.07272202,  90.19786719,\n",
       "        90.52258926,  90.66084717,  90.79240267,  91.19129882,\n",
       "        91.34003499,  91.66856296,  91.79553286,  91.97907667,\n",
       "        92.        ,  92.        ,  92.30322551,  92.43970327,\n",
       "        92.58730368,  92.80390555,  92.94599201,  93.47857499,\n",
       "        93.51864443,  93.70353372,  93.83032102,  93.91355381,\n",
       "        93.9894767 ,  94.04773491,  94.5063633 ,  94.76728168,\n",
       "        94.89208835,  95.32689522,  95.55557487,  95.77444593,\n",
       "        95.84474056,  96.006956  ,  96.38634983,  96.63215807,\n",
       "        97.03016245,  97.21379946,  97.39363527,  97.55913193,\n",
       "        97.97098989,  98.15256655,  98.433005  ,  98.6270564 ,\n",
       "        98.98616371,  99.27994775,  99.74410179,  99.80315452,\n",
       "        99.93629713, 100.11665602, 100.21409632, 100.4846082 ,\n",
       "       100.63996482, 100.79837723, 100.82301773, 101.07768141,\n",
       "       101.25407079, 101.34542267, 101.48053989, 101.70861431,\n",
       "       102.09413274, 102.25718121, 102.55621586, 102.5843359 ,\n",
       "       102.86293786, 103.1072896 , 103.60061848, 103.68004352,\n",
       "       104.00023732, 104.0125583 , 104.05498142, 104.07050197,\n",
       "       104.4344305 , 104.56009792, 104.67934542, 104.76864523,\n",
       "       104.96064876, 104.98988371, 105.52794776, 105.79176233,\n",
       "       105.93132322, 106.18632573, 106.70796081, 106.99192225,\n",
       "       107.        , 107.10842728, 107.22510632, 107.3266354 ,\n",
       "       107.76279075, 107.81295112, 108.13701743, 108.27068884,\n",
       "       108.66805027, 108.86433156, 109.12807335, 109.28180347,\n",
       "       109.47072819, 109.76418372, 110.02336741, 110.07983876,\n",
       "       110.15041484, 110.31612139, 110.64683017, 110.85586712,\n",
       "       110.96229666, 110.9921793 , 111.33547438, 111.39674468,\n",
       "       111.85354024, 111.86848112, 112.18519788, 112.76438859,\n",
       "       113.06451806, 113.14230024, 113.73432442, 113.99124243,\n",
       "       114.10169974, 114.87027762, 115.19614068, 115.91497234,\n",
       "       116.58031337, 117.05643738, 117.27038473, 117.80688307,\n",
       "       117.94040888, 118.18260275, 118.56087917, 118.7064213 ,\n",
       "       119.00050199, 119.51021526, 119.98727777, 120.41931837,\n",
       "       120.70512079, 121.10169469, 121.6942545 , 121.95077487,\n",
       "       122.15470136, 122.41973183, 122.85095506, 123.08503137,\n",
       "       123.31745383, 123.45438679, 123.79235064, 124.2313391 ,\n",
       "       124.52750052, 124.94151255, 125.85327121, 126.74001846,\n",
       "       127.17088902, 127.32190696, 127.56896018, 127.73741973,\n",
       "       127.94588477, 127.95230823, 128.61311054, 129.14391199,\n",
       "       129.48753234, 129.73262892, 130.1646503 , 130.20788688,\n",
       "       131.        , 131.        , 131.53631988, 131.7288773 ,\n",
       "       131.93123738, 132.29828756, 132.88654887, 133.00655784,\n",
       "       133.76648439, 133.98945146, 134.60627444, 135.27032538,\n",
       "       135.32604437, 135.41069463, 135.73157868, 136.15043106,\n",
       "       136.26322867, 136.89635481, 137.11728998, 137.37637667,\n",
       "       138.55412599, 138.84274691, 139.02161132, 140.36058841,\n",
       "       140.95357635, 141.76766294, 141.93589158, 142.80732941,\n",
       "       142.82936847, 143.59427227, 144.34772361, 144.43143744,\n",
       "       144.91076399, 146.16593164, 146.55448529, 146.71829917,\n",
       "       146.9038579 , 148.42166661, 148.87945577, 149.24419026,\n",
       "       150.23575611, 150.52526645, 151.07848827, 151.16867846,\n",
       "       152.35343222, 152.45342449, 153.67644912, 153.84984449,\n",
       "       153.92290227, 154.58922801, 155.03317557, 155.42946808,\n",
       "       155.50243427, 156.        , 156.        , 156.12621761,\n",
       "       156.28706074, 156.86388843, 157.0482661 , 157.30747361,\n",
       "       157.66353393, 158.18114712, 158.28390429, 158.56046671,\n",
       "       159.12266471, 159.26094983, 159.46860445, 159.77317778,\n",
       "       159.88181437, 160.        , 160.05929003, 160.44487279,\n",
       "       161.05317391, 161.49390217, 161.52750611, 161.89107102,\n",
       "       162.28518619, 163.        , 163.06291438, 163.12941956,\n",
       "       163.40914812, 163.66842402, 163.91899754, 164.05376073,\n",
       "       164.41500664, 164.56847613, 164.75168535, 165.07759226,\n",
       "       165.13502404, 165.23449392, 165.33192039, 165.45919426,\n",
       "       165.55091414, 165.6647751 , 166.0765747 , 166.30718776,\n",
       "       166.6009807 , 166.76524841, 166.92789271, 167.06491495,\n",
       "       167.71330854, 168.10905022, 168.21907978, 168.72374931,\n",
       "       169.13620784, 169.17726847, 169.40327883, 169.72303621,\n",
       "       170.07431113, 170.14356405, 170.61400334, 171.0383296 ,\n",
       "       171.07216275, 171.22630177, 171.38357166, 171.99700321,\n",
       "       172.        , 172.04410083, 172.11287886, 172.31279686,\n",
       "       172.65308044, 172.77668148, 173.05311703, 173.16007671,\n",
       "       173.37416883, 173.85390912, 174.21967004, 174.93245957,\n",
       "       175.        , 175.26015874, 175.34493794, 175.63031684,\n",
       "       176.10623586, 176.6944562 , 177.20664723, 177.6164515 ,\n",
       "       177.86581852, 178.04462894, 178.30292448, 178.47294056,\n",
       "       178.66746218, 179.01489951, 179.09454987, 179.76842401,\n",
       "       180.06835544, 180.41787374, 181.05225356, 181.19085689,\n",
       "       181.82125148, 182.07217341, 182.11865677, 182.41026256,\n",
       "       183.05322837, 183.3572184 , 184.39120567, 184.53517229,\n",
       "       184.78320477, 185.35272478, 185.60040835, 185.94340351,\n",
       "       186.01669448, 186.1314676 , 186.46941075, 187.02161032,\n",
       "       187.28208307, 187.68217231, 187.8524561 , 188.28341387,\n",
       "       189.09741971, 189.28963167, 189.98350138, 190.12717063,\n",
       "       190.25101464, 191.92848952, 192.22293697, 193.03419474,\n",
       "       193.12168975, 194.0288564 , 194.95304257, 195.01417708,\n",
       "       195.04892115, 195.13436432, 196.13333395, 197.81432786,\n",
       "       198.54624723, 200.32707452, 201.88948498, 201.9785575 ,\n",
       "       204.92301636, 206.80492505, 207.59935023, 208.30804356,\n",
       "       210.69599617, 212.69520035, 213.16702113, 213.7142198 ,\n",
       "       215.9056708 , 216.76226866, 217.26254133, 221.89543781,\n",
       "       222.30355735, 225.70958628, 226.88374304, 227.90024012,\n",
       "       230.82277433, 232.37279973, 237.86320914, 239.6447513 ,\n",
       "       240.12130932, 241.5894106 , 243.04022304, 246.29392613,\n",
       "       252.9844198 , 259.44805088, 261.37711721, 264.53617737,\n",
       "       265.62967703, 278.3355831 , 285.33114292, 294.31403953,\n",
       "       298.17317596, 301.36091575, 315.45498532, 318.89347863,\n",
       "       322.27382031, 329.50830795, 332.39814839, 333.94394274,\n",
       "       334.76540661, 336.43038746, 339.29840718, 346.22569619,\n",
       "       357.86253927, 359.11598171, 373.72885579, 377.8366974 ,\n",
       "       384.6321675 , 388.07353998, 390.29130026, 391.74609912,\n",
       "       403.54800887, 405.93025182, 414.59650346, 420.75965531,\n",
       "       423.6989221 , 425.55667023, 431.42964305, 432.99035738,\n",
       "       439.65700332, 443.36015675, 445.79899186, 448.21378308,\n",
       "       448.78297327, 449.6159963 , 450.54716468, 451.98981454,\n",
       "       454.32386361, 454.81258353, 455.01144932, 457.53389329,\n",
       "       459.4747097 , 462.78566546, 463.44633386, 465.68598265,\n",
       "       468.01649979, 469.47860476, 471.1996233 , 472.91630968,\n",
       "       474.88982533, 475.86611522, 475.97557236, 477.25531666,\n",
       "       478.1716016 , 479.66050628, 480.54308928, 483.11830976,\n",
       "       483.45341822, 483.94654317, 484.        , 484.48379674,\n",
       "       484.87881388, 485.30387574, 486.14483976, 486.52056913,\n",
       "       487.11526134, 487.52984972, 488.45981364, 489.62610394,\n",
       "       490.16611548, 490.44222514, 491.        , 491.68158868,\n",
       "       491.89111873, 492.02257207, 492.96227062, 493.60790939,\n",
       "       495.19692174, 495.71288869, 496.38199389, 496.6485259 ,\n",
       "       497.03734404, 497.08032319, 497.79833407, 498.07591824,\n",
       "       499.86719134, 500.12973909, 500.35488945, 501.27495414,\n",
       "       501.76696453, 501.97672155, 502.04924064, 502.25501859,\n",
       "       503.14049457, 504.06093012, 505.10768558, 505.5374976 ,\n",
       "       506.76983746, 507.19275644, 507.55767891, 508.23806302,\n",
       "       508.54851186, 508.97282847, 509.65963624, 510.86287215,\n",
       "       511.        , 511.        , 511.01536748, 511.02364979,\n",
       "       511.80575356, 511.82888567, 512.05808507, 512.49965455,\n",
       "       513.02811903, 513.04477845, 513.36839279, 514.04586139,\n",
       "       514.15127861, 514.49883377, 514.98353737, 515.0073905 ,\n",
       "       515.01638558, 515.02688131, 515.1403114 , 515.28295453,\n",
       "       515.70965715, 515.98888159, 516.26013512, 516.63116238,\n",
       "       516.92530247, 517.        , 517.        , 517.        ,\n",
       "       517.        , 517.        , 517.00617209, 517.0171554 ,\n",
       "       517.68152306, 518.        , 518.00508568, 518.00964648,\n",
       "       518.09825635, 518.8565722 , 519.03756737, 519.2360489 ,\n",
       "       519.56705522, 519.74434097, 520.09170941, 520.33670674,\n",
       "       521.01642924, 521.03245915, 521.11203708, 521.56051539,\n",
       "       522.01486179, 522.06655412, 522.13469926, 522.26910792,\n",
       "       522.97136963, 523.        , 523.        , 523.02150441,\n",
       "       523.13736489, 523.17731471, 523.97123699, 524.        ,\n",
       "       524.        , 524.02681985, 524.61777978, 525.00757346,\n",
       "       525.06516863, 526.00266623, 526.29455902, 527.        ,\n",
       "       527.        , 527.00492771, 527.23354   , 527.29929454,\n",
       "       528.00235718, 528.05247534, 528.224611  , 528.47988577,\n",
       "       529.        , 529.        , 529.0479475 , 529.11904053,\n",
       "       529.18366737, 529.56315392, 529.97491572, 530.01876524,\n",
       "       530.04674427, 530.15847337, 530.25822121, 530.91501266,\n",
       "       531.016812  , 531.0409046 , 531.08374368, 531.15427005,\n",
       "       531.21903421, 531.58940523, 531.9290888 , 532.01065796,\n",
       "       532.02475299, 532.04331637, 532.13907318, 532.19638408,\n",
       "       532.37430061, 533.01550817, 533.04162266, 533.08991642,\n",
       "       533.17841146, 533.81120992, 534.        , 534.        ,\n",
       "       534.00239045, 534.00554512, 534.01131705, 534.02494447,\n",
       "       534.21063708, 534.22503943, 534.36117206, 534.87943936,\n",
       "       535.        , 535.01019024, 535.03632038, 535.04600265,\n",
       "       535.08227686, 535.15017925, 535.85030994, 536.        ,\n",
       "       536.        , 536.        , 536.        , 536.00581776,\n",
       "       536.00674313, 536.01822311, 536.0245354 , 536.03491525,\n",
       "       536.05265695, 536.08184277, 536.11726375, 536.29954917,\n",
       "       536.44225709, 536.82856601, 537.        , 537.        ,\n",
       "       537.        , 537.        , 537.        , 537.        ,\n",
       "       537.        , 537.00350941, 537.00496653, 537.0085394 ,\n",
       "       537.01295506, 537.0251216 , 537.03974381, 537.09103606,\n",
       "       537.11820884, 537.22135003, 537.47768004, 537.85861887,\n",
       "       538.        , 538.        , 538.00719894, 538.01502924,\n",
       "       538.02369668, 538.07143165, 538.24610745, 538.67381455,\n",
       "       539.00674319, 539.00950242, 539.01207188, 539.01427632,\n",
       "       539.02528154, 539.13217989, 539.24383286, 539.85707591,\n",
       "       540.        , 540.        , 540.00926202, 540.01053868,\n",
       "       540.02151088, 540.03016092, 540.06175324, 540.12382933,\n",
       "       540.36545193, 540.49173747, 540.64056255, 541.        ,\n",
       "       541.        , 541.        , 541.        , 541.        ,\n",
       "       541.        , 541.        , 541.        , 541.        ,\n",
       "       541.        , 541.        , 541.        , 541.        ,\n",
       "       541.        , 541.        , 541.        , 541.        ,\n",
       "       541.00546223, 541.00733606, 541.01811566, 541.03751913,\n",
       "       541.04496028, 541.07344142, 541.10712571, 541.42910201,\n",
       "       541.84557351, 542.        , 542.        , 542.        ,\n",
       "       542.        , 542.00304999, 542.00594821, 542.00903977,\n",
       "       542.02417806, 542.03441591, 542.05916564, 542.09037169,\n",
       "       542.11371607, 542.20349561, 542.31981178, 542.50133567,\n",
       "       542.80736247, 542.95864703, 543.00231382, 543.00374356,\n",
       "       543.01154908, 543.01620571, 543.02838092, 543.02899836,\n",
       "       543.04924886, 543.13947564, 543.2764824 , 543.8096511 ,\n",
       "       544.        , 544.0034258 , 544.00435724, 544.0059984 ,\n",
       "       544.01420299, 544.01544089, 544.02596975, 544.04183154,\n",
       "       544.05073357, 544.09004615, 544.33601302, 544.3840148 ,\n",
       "       544.75608702, 545.00233157, 545.00478758, 545.00497268,\n",
       "       545.00706608, 545.01102666, 545.01550655, 545.01687999,\n",
       "       545.0264896 , 545.04920653, 545.0833083 , 545.19999251,\n",
       "       545.47147949, 545.59188073, 545.97621377, 546.        ,\n",
       "       546.        , 546.00902927, 546.01174205, 546.01534494,\n",
       "       546.02040999, 546.04054791, 546.05014846, 546.08356913,\n",
       "       546.16958359, 546.55311285, 546.74661893, 547.        ,\n",
       "       547.00518268, 547.00644968, 547.00987353, 547.01195837,\n",
       "       547.01661485, 547.03339719, 547.03856572, 547.06444366,\n",
       "       547.09713378, 547.4526356 , 547.87020719, 548.01737895,\n",
       "       548.02383629, 548.25247035, 548.35089991, 548.9780494 ,\n",
       "       549.01500587, 549.04776583, 549.10802871, 549.21515034,\n",
       "       549.99191043, 550.00328419, 550.00436742, 550.00630957,\n",
       "       550.01580699, 550.0170441 , 550.0494927 , 550.09780231,\n",
       "       550.21835101, 550.83327227, 551.00565308, 551.01379009,\n",
       "       551.02152677, 551.03096834, 551.03536373, 551.21742706,\n",
       "       551.28253413, 551.85334126, 552.0202463 , 552.0547614 ,\n",
       "       552.82890822, 553.        , 553.00353003, 553.00536992,\n",
       "       553.01452663, 553.0332677 , 553.08975631, 553.25417976,\n",
       "       553.64513832, 553.96362166, 554.        , 554.00290197,\n",
       "       554.00557376, 554.01008112, 554.01771761, 554.02068323,\n",
       "       554.04315004, 554.0913799 , 554.12048414, 554.85361651,\n",
       "       555.        , 555.00698848, 555.01103218, 555.0208277 ,\n",
       "       555.04171244, 555.07144481, 555.17504325, 555.4344607 ,\n",
       "       555.91721858, 556.01432344, 556.09535741, 556.43857487,\n",
       "       556.68652245, 556.94721876, 557.01189083, 557.02821929,\n",
       "       557.03521053, 557.07552544, 557.08321565, 557.13645982,\n",
       "       557.28256134, 557.57226945, 557.86151198, 558.02858679,\n",
       "       558.05357371, 558.18828118, 558.71955367, 559.03046475,\n",
       "       559.09529152, 559.16740192, 559.23116591, 560.00345878,\n",
       "       560.03706506, 560.04251101, 560.32852703, 561.00517385,\n",
       "       561.02015359, 561.0278018 , 561.13000593, 561.19080442,\n",
       "       562.02894936, 562.04771994, 562.06665481, 563.0105571 ,\n",
       "       563.05023721, 563.97254838, 564.00814866, 564.02621588,\n",
       "       564.04551682, 564.06173405, 564.11857105, 564.20600944,\n",
       "       564.9907869 , 565.03436749, 565.21648633, 565.2994776 ,\n",
       "       566.03384999, 566.21439532, 567.00456229, 567.008141  ,\n",
       "       567.02155412, 567.02744129, 567.09334785, 567.4414663 ,\n",
       "       568.02810501, 569.63228348, 569.982815  , 570.05770293,\n",
       "       570.10676728, 570.33279347, 570.4728107 , 571.6396871 ,\n",
       "       572.02851073, 572.03755863, 572.0550909 , 572.15304451,\n",
       "       573.00465599, 573.03048449, 573.05502754, 574.42978214,\n",
       "       575.01528353, 575.01742075, 575.09121705, 575.2039869 ,\n",
       "       576.04110558, 577.00152024, 577.56309979, 578.0434689 ,\n",
       "       578.13423292, 579.00531077, 579.11312761, 580.36320924,\n",
       "       581.34258214, 582.08914385, 583.2392137 , 584.0363361 ,\n",
       "       585.04509621, 585.12233038, 586.04991622, 587.05557619,\n",
       "       589.99359465, 590.17526622, 591.04994045, 593.07476176,\n",
       "       595.0294259 , 596.02371361, 602.07051748, 603.0227556 ,\n",
       "       604.0304047 ])"
      ]
     },
     "execution_count": 18,
     "metadata": {},
     "output_type": "execute_result"
    }
   ],
   "source": [
    "eigenvalues"
   ]
  },
  {
   "cell_type": "markdown",
   "metadata": {},
   "source": [
    "Plot the first 3 and the last Fourier basis vectors as signals on your graph. Clearly indicate which plot belongs to which basis vector."
   ]
  },
  {
   "cell_type": "code",
   "execution_count": null,
   "metadata": {
    "inputHidden": false,
    "outputHidden": false
   },
   "outputs": [],
   "source": [
    "# Your code here."
   ]
  },
  {
   "cell_type": "markdown",
   "metadata": {},
   "source": [
    "### Question 2\n",
    "\n",
    "What can you observe in terms of local variations when comparing the basis vectors corresponding to the smallest eigenvalues to those corresponding to the largest eigenvalue? How would this justify the interpretation of the eigenvalues as \"graph frequencies\"?"
   ]
  },
  {
   "cell_type": "markdown",
   "metadata": {},
   "source": [
    "**Your answer here.**"
   ]
  },
  {
   "cell_type": "markdown",
   "metadata": {},
   "source": [
    "### Question 3\n",
    "\n",
    "Implement a function that returns the Graph Fourier Transform (GFT) of a given vector $x \\in \\mathbb{R}^{N},$ with respect to your graph, and a function that computes the corresponding inverse GFT (iGFT)."
   ]
  },
  {
   "cell_type": "code",
   "execution_count": null,
   "metadata": {
    "inputHidden": false,
    "outputHidden": false
   },
   "outputs": [],
   "source": [
    "def GFT(x):\n",
    "    return # Your code here.\n",
    "\n",
    "def iGFT(x):\n",
    "    return # Your code here."
   ]
  },
  {
   "cell_type": "markdown",
   "metadata": {},
   "source": [
    "### Question 4\n",
    "\n",
    "Plot your feature/label vector as a signal on your graph"
   ]
  },
  {
   "cell_type": "code",
   "execution_count": null,
   "metadata": {
    "inputHidden": false,
    "outputHidden": false
   },
   "outputs": [],
   "source": [
    "# Your code here."
   ]
  },
  {
   "cell_type": "markdown",
   "metadata": {},
   "source": [
    "Plot the absolute values of the GFT of your feature/label signal as a function of the graph eigenvalues. Make sure to add a marker indicating the position of each graph eigenvalue, and remember to properly name the axes."
   ]
  },
  {
   "cell_type": "code",
   "execution_count": null,
   "metadata": {
    "inputHidden": false,
    "outputHidden": false
   },
   "outputs": [],
   "source": [
    "# Your code here."
   ]
  },
  {
   "cell_type": "markdown",
   "metadata": {},
   "source": [
    "### Question 5\n",
    "\n",
    "Discuss the behavior of the GFT that you plotted in the last question via comparing the plot of your label signal and those of the Fourier basis of Question 1. Would you consider your labels a \"low-pass\" or \"high-pass\" signal, or yet something else entirely?"
   ]
  },
  {
   "cell_type": "markdown",
   "metadata": {},
   "source": [
    "**Your answer here.**"
   ]
  },
  {
   "cell_type": "markdown",
   "metadata": {
    "code_folding": []
   },
   "source": [
    "## 2 - Filtering on graphs\n",
    "\n",
    "In this section we will check how filtered Dirac impulses diffuse on your graph."
   ]
  },
  {
   "cell_type": "markdown",
   "metadata": {
    "inputHidden": false,
    "outputHidden": false
   },
   "source": [
    "### Question 6 \n",
    "\n",
    "Implement the following three filter kernels and the graph filtering operation.\n",
    "\n",
    "- The **heat kernel** is supposed to take in a vector of eigenvalues `e` and a parameter `t` and output a vector of evaluations of the heat kernel at those eigenvalues (see the course slides for help).\n",
    "- The **inverse filter** kernel is supposed to take in a vector of eigenvalues `e` and a parameter `t` and implement spectrally the  filter defined in the node domain by $f_{out}  = (I + t L)^{-1} f_{in},$ where $f_{in}, f_{out} \\in \\mathbb{R}^{N}$ are, repectively, the input and output signals to the filter.\n",
    "- The **rectangle kernel** takes in a vector of eigenvalues `e` and parameters `l_min` and `l_max` and returns `1.0` at coordinates satisfying $(e[l] \\geq l_{min}) \\wedge (e[l] \\leq l_{max}),$ and `0.0` otherwise.\n",
    "- The **graph filtering** operation takes a graph signal $x \\in \\mathbb{R}^{N}$, a spectral graph `kernel` and a set of keyworded variables, and returns the corresponding filtered signal.\n",
    "    - _Hint:_ Remember that you have implemented the `GFT` and `iGFT` operations in Question 3.\n",
    "    - The `**kwargs` is a placeholder to collect supplementary pairs of keyword-values that are not known by the implementation before execution time.\n",
    "      The `kwargs` variable is a dictionary whose keyes and values are the parameter names and values.\n",
    "      This is useful to allow both `graph_filter(x, heat_kernel, tau=1.0)` and `graph_filter(x, rectangle_kernel, lambda_min=0.0, lambda_max=1.0)` to be valid calls from the same implementation.\n",
    "      One can then defer the keyword-value assignment to the `kernel` call: `foo = kernel(bar, **kwargs)`."
   ]
  },
  {
   "cell_type": "code",
   "execution_count": null,
   "metadata": {
    "inputHidden": false,
    "outputHidden": false
   },
   "outputs": [],
   "source": [
    "def heat_kernel(e, t):\n",
    "    return # Your code here.\n",
    "\n",
    "def inverse_kernel(e, t):\n",
    "    return # Your code here.\n",
    "\n",
    "def rectangle_kernel(e, l_min, l_max):\n",
    "    return # Your code here.\n",
    "\n",
    "def graph_filter(x, kernel, **kwargs):\n",
    "    return # Your code here."
   ]
  },
  {
   "cell_type": "markdown",
   "metadata": {},
   "source": [
    "### Question 7\n",
    "\n",
    "Plot all three filter kernels in the spectral domain. Remember to properly name the axes and title the plots. Choose filter parameters that best approximate the behavior of the GFT of your feature/label signal (as seen in Question 4)."
   ]
  },
  {
   "cell_type": "code",
   "execution_count": null,
   "metadata": {
    "inputHidden": false,
    "outputHidden": false
   },
   "outputs": [],
   "source": [
    "# Your code here."
   ]
  },
  {
   "cell_type": "markdown",
   "metadata": {},
   "source": [
    "### Question 8\n",
    "\n",
    "Consider two Dirac impulses arbitrarily placed on your graph. Plot their filtered versions by the three filter kernels implemented in Question 6."
   ]
  },
  {
   "cell_type": "code",
   "execution_count": null,
   "metadata": {
    "inputHidden": false,
    "outputHidden": false
   },
   "outputs": [],
   "source": [
    "# Your code here."
   ]
  },
  {
   "cell_type": "markdown",
   "metadata": {},
   "source": [
    "Comment on the \"diffusion\" of the Diracs induced by the filters. What does it say about the \"communication\" of information across your network? Relate that to the network connectivity measures that you analyzed during the previous milestones."
   ]
  },
  {
   "cell_type": "markdown",
   "metadata": {
    "inputHidden": false,
    "outputHidden": false
   },
   "source": [
    "**Your answer here.**"
   ]
  },
  {
   "cell_type": "markdown",
   "metadata": {},
   "source": [
    "## 3 - De-noising\n",
    "\n",
    "In this section we will add some centered Gaussian noise to your feature/label signal and attempt to recover it."
   ]
  },
  {
   "cell_type": "markdown",
   "metadata": {},
   "source": [
    "### Question 9\n",
    "\n",
    "In the cell below, set the noise variance $\\sigma^2$ by making sure that the signal-to-noise ratio $SNR = \\frac{\\operatorname{Var}(\\text{labels})}{\\sigma^2}$ is about  $1.5$.\n",
    "\n",
    "_Note:_ Actually, you might want to play with the noise variance here and set it to different values and see how the denoising filters behave."
   ]
  },
  {
   "cell_type": "code",
   "execution_count": null,
   "metadata": {
    "inputHidden": false,
    "outputHidden": false
   },
   "outputs": [],
   "source": [
    "noise_variance = # Your code here.\n",
    "noisy_measurements = labels + noise_variance * np.random.randn(n_nodes)"
   ]
  },
  {
   "cell_type": "markdown",
   "metadata": {},
   "source": [
    "### Question 10\n",
    "\n",
    "In the denoising setting, a common graph signal processing assumption is that the signal $z$ that we want to recover is \"smooth\", in the sense that $\\|\\nabla_G z\\|_2 = \\sqrt{z^{\\top} L z}$ is small, while remaining \"close\" to the measurements that we start with. This leads to denoising by solving the following optimization problem:\n",
    "\n",
    "$$\n",
    "z^\\star = \\text{arg} \\, \\underset{z \\in \\mathbb{R}^{N}}{\\min} \\, \\|z - y\\|_2^2 + \\gamma z^{\\top} L z, \n",
    "$$\n",
    "\n",
    "where $y \\in \\mathbb{R}^{N}$ is the vector of noisy measurements.\n",
    "\n",
    "Derive the close form solution to this problem giving $z^\\star$ as a function of $y$, $\\gamma$ and $L$. Does this solution correspond to any graph filtering operation that you know?"
   ]
  },
  {
   "cell_type": "markdown",
   "metadata": {},
   "source": [
    "**Your answer here.**"
   ]
  },
  {
   "cell_type": "markdown",
   "metadata": {},
   "source": [
    "### Question 11\n",
    "\n",
    "Now, denoise the noisy measurements by passing them through the filters that you implemented in Question 6. Choose the filter parameters based on the behavior of the GFT of your original label signal (this is the prior knowledge that you input to the problem)."
   ]
  },
  {
   "cell_type": "code",
   "execution_count": null,
   "metadata": {
    "inputHidden": false,
    "outputHidden": false
   },
   "outputs": [],
   "source": [
    "z_heat_denoised = # Your code here.\n",
    "z_inv_denoised = # Your code here.\n",
    "z_rect_denoised = # Your code here."
   ]
  },
  {
   "cell_type": "markdown",
   "metadata": {},
   "source": [
    "Plot, on your graph, the original label signal, the noisy measurements, and the three denoised version obtained above. Report on each plot the value of the corresponding relative error \n",
    "$$\n",
    "\\text{rel-err} = \\frac{\\|\\text{labels} - z \\|_2}{\\|\\text{labels}\\|_2},\n",
    "$$\n",
    "where $z$ is the plotted signal."
   ]
  },
  {
   "cell_type": "code",
   "execution_count": null,
   "metadata": {
    "inputHidden": false,
    "outputHidden": false
   },
   "outputs": [],
   "source": [
    "# Your code here."
   ]
  },
  {
   "cell_type": "markdown",
   "metadata": {},
   "source": [
    "Finally, overlay on the same plot the GFT of all five signals above."
   ]
  },
  {
   "cell_type": "code",
   "execution_count": null,
   "metadata": {
    "inputHidden": false,
    "outputHidden": false
   },
   "outputs": [],
   "source": [
    "# Your code here."
   ]
  },
  {
   "cell_type": "markdown",
   "metadata": {},
   "source": [
    "### Question 12\n",
    "\n",
    "Comment on which denoised version seems to best match the original label signal. What is the underlying assumption behind the three filtering approaches? Do you think it holds for your label signal? Why?"
   ]
  },
  {
   "cell_type": "markdown",
   "metadata": {},
   "source": [
    "**Your answer here.**"
   ]
  },
  {
   "cell_type": "markdown",
   "metadata": {
    "ExecuteTime": {
     "end_time": "2018-08-31T13:05:59.301384Z",
     "start_time": "2018-08-31T13:05:59.297336Z"
    }
   },
   "source": [
    "## 4 - Transductive learning\n",
    "\n",
    "It is often the case in large networks that we can only afford to query properties/labels on a small subset of nodes. Nonetheless, if the underlying labels signal is \"regular\" enough, we might still be able to recover a good approximation of it by solving an offline variational problem, with constraints on the values of the measured nodes. \n",
    "\n",
    "In this section, we will be interested in solving such transductive learning problems by minimizing a (semi-) p-norm of the graph gradient applied to the signal of interest:\n",
    "\n",
    "$$\n",
    "\\text{arg} \\, \\underset{z|_S = y}{\\min} \\|\\nabla_G z\\|_p^p,\n",
    "$$\n",
    "\n",
    "where $S$ is the set of measured nodes.\n",
    "\n",
    "In English, we can say that we are looking for solutions with small \"aggregated local variations\", as measured by $\\|\\nabla_G z\\|_p^p = \\sum_{i=1}^{n} \\sum_{j=1}^{n} \\left( \\sqrt{W_{ij}} |z[i] - z[j]| \\right)^p,$ while satisfying the measurement constraints $z[i] = y[i]$ for $i \\in S.$\n",
    "\n",
    "We will work with two cases, according to the choices $p=1$ or $p=2.$ For $p=1,$ the problem is known as \"interpolation by graph total-variation minimization,\" whereas for $p=2$ it is sometimes called \"interpolation by Tikhonov regularization\".\n",
    "\n",
    "In order to solve these variational problems with the black-box solver provided to you, you will use the [pyunlocbox](https://pyunlocbox.readthedocs.io). This toolbox implements iterative solvers based on so-called [\"proximal-splitting\"](https://en.wikipedia.org/wiki/Proximal_gradient_method) methods."
   ]
  },
  {
   "cell_type": "markdown",
   "metadata": {},
   "source": [
    "### Question 13\n",
    "\n",
    "Throughout this section, we will consider only a binarized version of your label signal. If your variable `labels` currently has values other than $\\{-1, 1\\},$ threshold them so that those are the only values taken in this vector. This can be done for example by choosing a number $t \\in \\mathbb{R}$ and then setting $\\text{labels_bin}[i] = 1$ if $\\text{labels}[i] \\geq t$ and $\\text{labels_bin}[i] = 0$ otherwise."
   ]
  },
  {
   "cell_type": "code",
   "execution_count": null,
   "metadata": {
    "inputHidden": false,
    "outputHidden": false
   },
   "outputs": [],
   "source": [
    "labels_bin = # Your code here."
   ]
  },
  {
   "cell_type": "markdown",
   "metadata": {},
   "source": [
    "Now, subsample this binarized label signal by $70\\%$ by choosing, uniformly at random, $30\\%$ of the nodes whose labels we will keep.\n",
    "\n",
    "You will do this by computing a \"measurement mask\" vector `w` with `1.0`'s at the measured coordinates, and $0.0$'s otherwise."
   ]
  },
  {
   "cell_type": "code",
   "execution_count": null,
   "metadata": {
    "inputHidden": false,
    "outputHidden": false
   },
   "outputs": [],
   "source": [
    "mn_ratio = 0.3\n",
    "m = int(mn_ratio * n_nodes)  # Number of measurements.\n",
    "\n",
    "w = # Your code here."
   ]
  },
  {
   "cell_type": "markdown",
   "metadata": {},
   "source": [
    "Plot the subsampled signal on the graph. _Hint:_ you might want to set to `numpy.nan` the values of the un-measured nodes for a cleaner plot."
   ]
  },
  {
   "cell_type": "code",
   "execution_count": null,
   "metadata": {
    "inputHidden": false,
    "outputHidden": false
   },
   "outputs": [],
   "source": [
    "# Your code here."
   ]
  },
  {
   "cell_type": "markdown",
   "metadata": {},
   "source": [
    "### Interlude\n",
    "\n",
    "For the solution of the variational problems you can use the following function as a \"black-box\". \n",
    "\n",
    "You will just need to provide a `gradient` matrix (which you should already have from Section 0), and an orthogonal projection operator `P` onto the span of the measured coordinates (made precise in the next question)."
   ]
  },
  {
   "cell_type": "code",
   "execution_count": null,
   "metadata": {},
   "outputs": [],
   "source": [
    "def graph_pnorm_interpolation(gradient, P, x0=None, p=1., **kwargs):\n",
    "    r\"\"\"\n",
    "    Solve an interpolation problem via gradient p-norm minimization.\n",
    "\n",
    "    A signal :math:`x` is estimated from its measurements :math:`y = A(x)` by solving\n",
    "    :math:`\\text{arg}\\underset{z \\in \\mathbb{R}^n}{\\min}\n",
    "    \\| \\nabla_G z \\|_p^p \\text{ subject to } Az = y` \n",
    "    via a primal-dual, forward-backward-forward algorithm.\n",
    "\n",
    "    Parameters\n",
    "    ----------\n",
    "    gradient : array_like\n",
    "        A matrix representing the graph gradient operator\n",
    "    P : callable\n",
    "        Orthogonal projection operator mapping points in :math:`z \\in \\mathbb{R}^n` \n",
    "        onto the set satisfying :math:`A P(z) = A z`.\n",
    "    x0 : array_like, optional\n",
    "        Initial point of the iteration. Must be of dimension n.\n",
    "        (Default is `numpy.random.randn(n)`)\n",
    "    p : {1., 2.}\n",
    "    kwargs :\n",
    "        Additional solver parameters, such as maximum number of iterations\n",
    "        (maxit), relative tolerance on the objective (rtol), and verbosity\n",
    "        level (verbosity). See :func:`pyunlocbox.solvers.solve` for the full\n",
    "        list of options.\n",
    "\n",
    "    Returns\n",
    "    -------\n",
    "    x : array_like\n",
    "        The solution to the optimization problem.\n",
    "\n",
    "    \"\"\"\n",
    "    \n",
    "    grad = lambda z: gradient.dot(z)\n",
    "    div = lambda z: gradient.transpose().dot(z)\n",
    "\n",
    "    # Indicator function of the set satisfying :math:`y = A(z)`\n",
    "    f = functions.func()\n",
    "    f._eval = lambda z: 0\n",
    "    f._prox = lambda z, gamma: P(z)\n",
    "\n",
    "    # :math:`\\ell_1` norm of the dual variable :math:`d = \\nabla_G z`\n",
    "    g = functions.func()\n",
    "    g._eval = lambda z: np.sum(np.abs(grad(z)))\n",
    "    g._prox = lambda d, gamma: functions._soft_threshold(d, gamma)\n",
    "\n",
    "    # :math:`\\ell_2` norm of the gradient (for the smooth case)\n",
    "    h = functions.norm_l2(A=grad, At=div)\n",
    "\n",
    "    stepsize = (0.9 / (1. + scipy.sparse.linalg.norm(gradient, ord='fro'))) ** p\n",
    "\n",
    "    solver = solvers.mlfbf(L=grad, Lt=div, step=stepsize)\n",
    "\n",
    "    if p == 1.:\n",
    "        problem = solvers.solve([f, g, functions.dummy()], x0=x0, solver=solver, **kwargs)\n",
    "        return problem['sol']\n",
    "    if p == 2.:\n",
    "        problem = solvers.solve([f, functions.dummy(), h], x0=x0, solver=solver, **kwargs)\n",
    "        return problem['sol']\n",
    "    else:\n",
    "        return x0"
   ]
  },
  {
   "cell_type": "markdown",
   "metadata": {},
   "source": [
    "### Question 14\n",
    "\n",
    "During the iterations of the algorithm used for solving the variational problem, we have to make sure that the labels at the measured nodes stay the same. We will do this by means of an operator `P` which, given a vector $a \\in \\mathbb{R}^{N},$ returns another vector $b \\in \\mathbb{R}^{N}$ satisfying $b[i] = \\text{labels_bin}[i]$ for every node $i$ in the set $S$ of known labels, and $b[i] = a[i]$ otherwise. Write in the cell below the function for this orthogonal projection operator `P`.\n",
    "\n",
    "_Hint:_ remember you have already computed the mask `w`."
   ]
  },
  {
   "cell_type": "code",
   "execution_count": null,
   "metadata": {
    "inputHidden": false,
    "outputHidden": false
   },
   "outputs": [],
   "source": [
    "def P(a):\n",
    "    # Your code here.\n",
    "    return b"
   ]
  },
  {
   "cell_type": "markdown",
   "metadata": {
    "inputHidden": false,
    "outputHidden": false
   },
   "source": [
    "### Question 15\n",
    "\n",
    "Solve the variational problems for $p = 1$ and $p = 2$. Record the solution for the $1-$norm minimization under `sol_1norm_min` and the one for $2-$norm minimization under `sol_2norm_min`.\n",
    "\n",
    "Compute also binarized versions of these solutions by thresholding the values with respect to $0$, that is, non-negative values become `1.0`, while negative values become `-1.0`. Store those binarized versions under `sol_1norm_bin` and `sol_2norm_bin`, respectively."
   ]
  },
  {
   "cell_type": "code",
   "execution_count": null,
   "metadata": {
    "inputHidden": false,
    "outputHidden": false
   },
   "outputs": [],
   "source": [
    "sol_1norm_min = # Your code here.\n",
    "\n",
    "sol_2norm_min = # Your code here.\n",
    "\n",
    "threshold = 0\n",
    "\n",
    "sol_1norm_bin = # Your code here.\n",
    "\n",
    "sol_2norm_bin = # Your code here."
   ]
  },
  {
   "cell_type": "markdown",
   "metadata": {
    "inputHidden": false,
    "outputHidden": false
   },
   "source": [
    "Plot, on your graph, the original `labels_bin` signal, as well as the solutions to the variational problems (both binarized and otherwise). Indicate on each plot the value of the relative error $\\text{rel-err} = \\frac{\\|\\text{labels_bin} - z\\|_2}{\\|\\text{labels_bin}\\|_2}$, where $z$ is the signal in the corresponding plot."
   ]
  },
  {
   "cell_type": "markdown",
   "metadata": {},
   "source": [
    "### Question 16\n",
    "\n",
    "Now that you have got a feeling for the sort of solutions that the transductive learning problems studied can give, we will see what is the effect of the number of measurements on the accuracy of both $p-$norm minimization problems.\n",
    "\n",
    "Towards this goal, you will write a `phase_transition()` function. This function will basically go over all the procedures that you have implemented in this section, but for varying numbers of measurements and thresholding values. It will also compute the relative error, $\\text{rel-err},$ of the solutions and average them over a number of trials.\n",
    "\n",
    "The output of the `phase_transition()` function has to be a matrix with `len(mn_ratios)` columns and `len(thresholds)` rows. Each pixel $(i,j)$ in the output matrix has to contain the average, over `n_trials` trials, of the relative error $\\text{rel-err}$ in the binarized (with threshold `thresholds[i]`) solution given by `graph_pnorm_interpolation()` from observing an `mn_ratios[j]` fraction of nodes. The randomness comes from a different choice of mask `w` at each trial, hence the averaging.\n",
    "\n",
    "The interest of this phase transition matrix is to assess what level of recovery error one could expect for a certain fraction of measurements and a certain threshold level."
   ]
  },
  {
   "cell_type": "code",
   "execution_count": null,
   "metadata": {
    "inputHidden": false,
    "outputHidden": false
   },
   "outputs": [],
   "source": [
    "def phase_transition(mn_ratios, thresholds, n_trials, labels_bin, p):\n",
    "\n",
    "    # Create sample mask.\n",
    "    \n",
    "    # Solve p-norm interpolation.\n",
    "    \n",
    "    # Aggregate.\n",
    "    \n",
    "    return pt_matrix"
   ]
  },
  {
   "cell_type": "markdown",
   "metadata": {},
   "source": [
    "### Question 17\n",
    "\n",
    "Pick 5 \"m/n\" ratios in $(0, 1)$ and 5 threshold levels in $(-1, 1)$ and run the `phase_transition()` function with `n_trials` = 20, for both $p = 1$ and $p = 2$."
   ]
  },
  {
   "cell_type": "code",
   "execution_count": null,
   "metadata": {
    "inputHidden": false,
    "outputHidden": false
   },
   "outputs": [],
   "source": [
    "mn_ratios = # Your code here.\n",
    "\n",
    "thresholds = # Your code here.\n",
    "\n",
    "pt_matrix_1norm = # Your code here.\n",
    "\n",
    "pt_matrix_2norm = # Your code here."
   ]
  },
  {
   "cell_type": "markdown",
   "metadata": {},
   "source": [
    "Plot both phase transition matrices as images with a colorbar. Make sure to properly name the axes and title the images. "
   ]
  },
  {
   "cell_type": "code",
   "execution_count": null,
   "metadata": {
    "inputHidden": false,
    "outputHidden": false
   },
   "outputs": [],
   "source": [
    "# Your code here."
   ]
  },
  {
   "cell_type": "markdown",
   "metadata": {},
   "source": [
    "### Question 18\n",
    "\n",
    "Do the phase transition plots above provide any justification for choosing one $p-$norm interpolation over the other? Why?"
   ]
  },
  {
   "cell_type": "markdown",
   "metadata": {},
   "source": [
    "**Your answer here.**"
   ]
  }
 ],
 "metadata": {
  "kernel_info": {
   "name": "python3"
  },
  "kernelspec": {
   "display_name": "Python 3",
   "language": "python",
   "name": "python3"
  },
  "language_info": {
   "codemirror_mode": {
    "name": "ipython",
    "version": 3
   },
   "file_extension": ".py",
   "mimetype": "text/x-python",
   "name": "python",
   "nbconvert_exporter": "python",
   "pygments_lexer": "ipython3",
   "version": "3.7.1"
  },
  "latex_envs": {
   "LaTeX_envs_menu_present": true,
   "autoclose": true,
   "autocomplete": true,
   "bibliofile": "biblio.bib",
   "cite_by": "apalike",
   "current_citInitial": 1,
   "eqLabelWithNumbers": true,
   "eqNumInitial": 1,
   "hotkeys": {
    "equation": "Ctrl-E",
    "itemize": "Ctrl-I"
   },
   "labels_anchors": false,
   "latex_user_defs": false,
   "report_style_numbering": false,
   "user_envs_cfg": false
  },
  "nteract": {
   "version": "0.12.3"
  },
  "varInspector": {
   "cols": {
    "lenName": 16,
    "lenType": 16,
    "lenVar": 40
   },
   "kernels_config": {
    "python": {
     "delete_cmd_postfix": "",
     "delete_cmd_prefix": "del ",
     "library": "var_list.py",
     "varRefreshCmd": "print(var_dic_list())"
    },
    "r": {
     "delete_cmd_postfix": ") ",
     "delete_cmd_prefix": "rm(",
     "library": "var_list.r",
     "varRefreshCmd": "cat(var_dic_list()) "
    }
   },
   "types_to_exclude": [
    "module",
    "function",
    "builtin_function_or_method",
    "instance",
    "_Feature"
   ],
   "window_display": false
  }
 },
 "nbformat": 4,
 "nbformat_minor": 2
}
